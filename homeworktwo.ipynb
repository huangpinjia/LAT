{
 "cells": [
  {
   "cell_type": "code",
   "execution_count": 5,
   "id": "c7b4e339",
   "metadata": {},
   "outputs": [
    {
     "data": {
      "text/html": [
       "<div>\n",
       "<style scoped>\n",
       "    .dataframe tbody tr th:only-of-type {\n",
       "        vertical-align: middle;\n",
       "    }\n",
       "\n",
       "    .dataframe tbody tr th {\n",
       "        vertical-align: top;\n",
       "    }\n",
       "\n",
       "    .dataframe thead th {\n",
       "        text-align: right;\n",
       "    }\n",
       "</style>\n",
       "<table border=\"1\" class=\"dataframe\">\n",
       "  <thead>\n",
       "    <tr style=\"text-align: right;\">\n",
       "      <th></th>\n",
       "      <th>學年度別</th>\n",
       "      <th>設立別</th>\n",
       "      <th>學制別</th>\n",
       "      <th>總計</th>\n",
       "      <th>甄選入學</th>\n",
       "      <th>申請入學</th>\n",
       "      <th>登記分發</th>\n",
       "      <th>直升入學</th>\n",
       "      <th>免試入學</th>\n",
       "      <th>其他</th>\n",
       "    </tr>\n",
       "  </thead>\n",
       "  <tbody>\n",
       "    <tr>\n",
       "      <th>0</th>\n",
       "      <td>92年</td>\n",
       "      <td>總計</td>\n",
       "      <td>高中</td>\n",
       "      <td>26790</td>\n",
       "      <td>853</td>\n",
       "      <td>4424</td>\n",
       "      <td>16557</td>\n",
       "      <td>1223</td>\n",
       "      <td>-</td>\n",
       "      <td>3733</td>\n",
       "    </tr>\n",
       "    <tr>\n",
       "      <th>1</th>\n",
       "      <td>92年</td>\n",
       "      <td>總計</td>\n",
       "      <td>高職</td>\n",
       "      <td>15506</td>\n",
       "      <td>201</td>\n",
       "      <td>3224</td>\n",
       "      <td>6416</td>\n",
       "      <td>29</td>\n",
       "      <td>-</td>\n",
       "      <td>5636</td>\n",
       "    </tr>\n",
       "    <tr>\n",
       "      <th>2</th>\n",
       "      <td>92年</td>\n",
       "      <td>國立</td>\n",
       "      <td>高中</td>\n",
       "      <td>1060</td>\n",
       "      <td>89</td>\n",
       "      <td>166</td>\n",
       "      <td>699</td>\n",
       "      <td>74</td>\n",
       "      <td>-</td>\n",
       "      <td>32</td>\n",
       "    </tr>\n",
       "    <tr>\n",
       "      <th>3</th>\n",
       "      <td>92年</td>\n",
       "      <td>國立</td>\n",
       "      <td>高職</td>\n",
       "      <td>-</td>\n",
       "      <td>-</td>\n",
       "      <td>-</td>\n",
       "      <td>-</td>\n",
       "      <td>-</td>\n",
       "      <td>-</td>\n",
       "      <td>-</td>\n",
       "    </tr>\n",
       "    <tr>\n",
       "      <th>4</th>\n",
       "      <td>92年</td>\n",
       "      <td>市立</td>\n",
       "      <td>高中</td>\n",
       "      <td>17831</td>\n",
       "      <td>611</td>\n",
       "      <td>3492</td>\n",
       "      <td>12831</td>\n",
       "      <td>423</td>\n",
       "      <td>-</td>\n",
       "      <td>474</td>\n",
       "    </tr>\n",
       "    <tr>\n",
       "      <th>...</th>\n",
       "      <td>...</td>\n",
       "      <td>...</td>\n",
       "      <td>...</td>\n",
       "      <td>...</td>\n",
       "      <td>...</td>\n",
       "      <td>...</td>\n",
       "      <td>...</td>\n",
       "      <td>...</td>\n",
       "      <td>...</td>\n",
       "      <td>...</td>\n",
       "    </tr>\n",
       "    <tr>\n",
       "      <th>83</th>\n",
       "      <td>102年</td>\n",
       "      <td>國立</td>\n",
       "      <td>高職</td>\n",
       "      <td>140</td>\n",
       "      <td>-</td>\n",
       "      <td>21</td>\n",
       "      <td>-</td>\n",
       "      <td>85</td>\n",
       "      <td>-</td>\n",
       "      <td>34</td>\n",
       "    </tr>\n",
       "    <tr>\n",
       "      <th>84</th>\n",
       "      <td>102年</td>\n",
       "      <td>市立</td>\n",
       "      <td>高中</td>\n",
       "      <td>17175</td>\n",
       "      <td>766</td>\n",
       "      <td>4497</td>\n",
       "      <td>4586</td>\n",
       "      <td>629</td>\n",
       "      <td>6499</td>\n",
       "      <td>198</td>\n",
       "    </tr>\n",
       "    <tr>\n",
       "      <th>85</th>\n",
       "      <td>102年</td>\n",
       "      <td>市立</td>\n",
       "      <td>高職</td>\n",
       "      <td>5073</td>\n",
       "      <td>20</td>\n",
       "      <td>949</td>\n",
       "      <td>1044</td>\n",
       "      <td>-</td>\n",
       "      <td>2908</td>\n",
       "      <td>152</td>\n",
       "    </tr>\n",
       "    <tr>\n",
       "      <th>86</th>\n",
       "      <td>102年</td>\n",
       "      <td>私立</td>\n",
       "      <td>高中</td>\n",
       "      <td>4584</td>\n",
       "      <td>4</td>\n",
       "      <td>1021</td>\n",
       "      <td>820</td>\n",
       "      <td>1198</td>\n",
       "      <td>595</td>\n",
       "      <td>946</td>\n",
       "    </tr>\n",
       "    <tr>\n",
       "      <th>87</th>\n",
       "      <td>102年</td>\n",
       "      <td>私立</td>\n",
       "      <td>高職</td>\n",
       "      <td>8789</td>\n",
       "      <td>23</td>\n",
       "      <td>969</td>\n",
       "      <td>457</td>\n",
       "      <td>12</td>\n",
       "      <td>4099</td>\n",
       "      <td>3229</td>\n",
       "    </tr>\n",
       "  </tbody>\n",
       "</table>\n",
       "<p>88 rows × 10 columns</p>\n",
       "</div>"
      ],
      "text/plain": [
       "    學年度別 設立別 學制別     總計 甄選入學  申請入學   登記分發  直升入學  免試入學    其他\n",
       "0    92年  總計  高中  26790  853  4424  16557  1223     -  3733\n",
       "1    92年  總計  高職  15506  201  3224   6416    29     -  5636\n",
       "2    92年  國立  高中   1060   89   166    699    74     -    32\n",
       "3    92年  國立  高職      -    -     -      -     -     -     -\n",
       "4    92年  市立  高中  17831  611  3492  12831   423     -   474\n",
       "..   ...  ..  ..    ...  ...   ...    ...   ...   ...   ...\n",
       "83  102年  國立  高職    140    -    21      -    85     -    34\n",
       "84  102年  市立  高中  17175  766  4497   4586   629  6499   198\n",
       "85  102年  市立  高職   5073   20   949   1044     -  2908   152\n",
       "86  102年  私立  高中   4584    4  1021    820  1198   595   946\n",
       "87  102年  私立  高職   8789   23   969    457    12  4099  3229\n",
       "\n",
       "[88 rows x 10 columns]"
      ]
     },
     "execution_count": 5,
     "metadata": {},
     "output_type": "execute_result"
    }
   ],
   "source": [
    "import plotly.express as px\n",
    "import pandas as pd\n",
    "\n",
    "df = pd.read_csv('臺北市高中高職新生入學方式.csv',encoding='ANSI')\n",
    "\n",
    "df"
   ]
  },
  {
   "cell_type": "code",
   "execution_count": 18,
   "id": "5622567c",
   "metadata": {},
   "outputs": [],
   "source": [
    "import numpy as np\n",
    "\n",
    "df['甄選入學'] = df['甄選入學'].replace('-', np.nan) #將數據中'-'忽略\n",
    "df['申請入學'] = df['申請入學'].replace('-', np.nan)\n",
    "df['登記分發'] = df['登記分發'].replace('-', np.nan)\n",
    "df['總計'] = df['總計'].replace('-', np.nan)\n",
    "\n",
    "df['甄選入學'] = df['甄選入學'].fillna(0).astype(int) #把數據中的\"NAn\"替換成0\n",
    "df['申請入學'] = df['申請入學'].fillna(0).astype(int)\n",
    "df['登記分發'] = df['登記分發'].fillna(0).astype(int)\n",
    "df['總計'] = df['總計'].fillna(0).astype(int)"
   ]
  },
  {
   "cell_type": "code",
   "execution_count": 21,
   "id": "499ef399",
   "metadata": {},
   "outputs": [
    {
     "name": "stdout",
     "output_type": "stream",
     "text": [
      "92\n"
     ]
    }
   ],
   "source": [
    "s = '92年'\n",
    "year = int(''.join(filter(str.isdigit, s)))\n",
    "print(year)"
   ]
  },
  {
   "cell_type": "code",
   "execution_count": 70,
   "id": "fd58f7ce",
   "metadata": {},
   "outputs": [
    {
     "data": {
      "application/vnd.plotly.v1+json": {
       "config": {
        "plotlyServerURL": "https://plot.ly"
       },
       "data": [
        {
         "a": [
          853,
          201,
          671,
          155,
          1006,
          158,
          1063,
          212,
          814,
          134,
          776,
          91,
          872,
          78,
          1004,
          84,
          838,
          96,
          880,
          64,
          830,
          43
         ],
         "b": [
          4424,
          3224,
          4884,
          3678,
          4267,
          3812,
          4395,
          4684,
          4794,
          4847,
          5280,
          4495,
          5588,
          4574,
          5717,
          5245,
          5545,
          4349,
          5665,
          3244,
          5904,
          1939
         ],
         "c": [
          16557,
          6416,
          17081,
          7330,
          17847,
          7522,
          17455,
          6309,
          16665,
          6728,
          15491,
          6792,
          14738,
          6784,
          14004,
          6605,
          14258,
          6507,
          8642,
          3690,
          5943,
          1501
         ],
         "hovertemplate": "<b>%{hovertext}</b><br><br>設立別=總計<br>甄選入學=%{a}<br>申請入學=%{b}<br>登記分發=%{c}<br>總計=%{marker.size}<extra></extra>",
         "hovertext": [
          "92年",
          "92年",
          "93年",
          "93年",
          "94年",
          "94年",
          "95年",
          "95年",
          "96年",
          "96年",
          "97年",
          "97年",
          "98年",
          "98年",
          "99年",
          "99年",
          "100年",
          "100年",
          "101年",
          "101年",
          "102年",
          "102年"
         ],
         "legendgroup": "總計",
         "marker": {
          "color": "white",
          "size": [
           26790,
           15506,
           27470,
           16953,
           27633,
           16716,
           27187,
           16015,
           26070,
           15840,
           25463,
           16172,
           25274,
           16505,
           24972,
           16513,
           25820,
           17052,
           25070,
           15420,
           23043,
           14002
          ],
          "sizemode": "area",
          "sizeref": 69.0825,
          "symbol": "circle"
         },
         "mode": "markers",
         "name": "總計",
         "showlegend": true,
         "subplot": "ternary",
         "type": "scatterternary"
        },
        {
         "a": [
          89,
          0,
          115,
          0,
          165,
          0,
          163,
          0,
          50,
          0,
          49,
          0,
          82,
          0,
          78,
          0,
          51,
          0,
          60,
          0,
          60,
          0
         ],
         "b": [
          166,
          0,
          139,
          0,
          175,
          0,
          228,
          0,
          289,
          0,
          424,
          15,
          508,
          24,
          444,
          19,
          330,
          16,
          308,
          17,
          386,
          21
         ],
         "c": [
          699,
          0,
          686,
          0,
          859,
          0,
          803,
          0,
          881,
          0,
          763,
          0,
          598,
          0,
          606,
          0,
          658,
          0,
          605,
          0,
          537,
          0
         ],
         "hovertemplate": "<b>%{hovertext}</b><br><br>設立別=國立<br>甄選入學=%{a}<br>申請入學=%{b}<br>登記分發=%{c}<br>總計=%{marker.size}<extra></extra>",
         "hovertext": [
          "92年",
          "92年",
          "93年",
          "93年",
          "94年",
          "94年",
          "95年",
          "95年",
          "96年",
          "96年",
          "97年",
          "97年",
          "98年",
          "98年",
          "99年",
          "99年",
          "100年",
          "100年",
          "101年",
          "101年",
          "102年",
          "102年"
         ],
         "legendgroup": "國立",
         "marker": {
          "color": "blue",
          "size": [
           1060,
           0,
           1051,
           0,
           1300,
           0,
           1299,
           0,
           1327,
           0,
           1343,
           58,
           1303,
           152,
           1286,
           176,
           1293,
           153,
           1279,
           127,
           1284,
           140
          ],
          "sizemode": "area",
          "sizeref": 69.0825,
          "symbol": "circle"
         },
         "mode": "markers",
         "name": "國立",
         "showlegend": true,
         "subplot": "ternary",
         "type": "scatterternary"
        },
        {
         "a": [
          611,
          25,
          521,
          35,
          800,
          18,
          856,
          30,
          750,
          34,
          727,
          30,
          785,
          21,
          917,
          30,
          767,
          20,
          812,
          21,
          766,
          20
         ],
         "b": [
          3492,
          1523,
          3781,
          1526,
          3368,
          1597,
          3371,
          1724,
          3798,
          1718,
          4261,
          1652,
          4308,
          1635,
          4476,
          1530,
          4098,
          1303,
          4062,
          1118,
          4497,
          949
         ],
         "c": [
          12831,
          3900,
          12705,
          3976,
          12702,
          3832,
          12806,
          3598,
          12596,
          3784,
          11677,
          3840,
          11548,
          3895,
          10959,
          3896,
          11180,
          3642,
          6315,
          2401,
          4586,
          1044
         ],
         "hovertemplate": "<b>%{hovertext}</b><br><br>設立別=市立<br>甄選入學=%{a}<br>申請入學=%{b}<br>登記分發=%{c}<br>總計=%{marker.size}<extra></extra>",
         "hovertext": [
          "92年",
          "92年",
          "93年",
          "93年",
          "94年",
          "94年",
          "95年",
          "95年",
          "96年",
          "96年",
          "97年",
          "97年",
          "98年",
          "98年",
          "99年",
          "99年",
          "100年",
          "100年",
          "101年",
          "101年",
          "102年",
          "102年"
         ],
         "legendgroup": "市立",
         "marker": {
          "color": "red",
          "size": [
           17831,
           5721,
           17629,
           5705,
           17570,
           5648,
           17640,
           5515,
           17658,
           5682,
           17206,
           5659,
           17204,
           5685,
           17250,
           5681,
           18387,
           5748,
           17733,
           5552,
           17175,
           5073
          ],
          "sizemode": "area",
          "sizeref": 69.0825,
          "symbol": "circle"
         },
         "mode": "markers",
         "name": "市立",
         "showlegend": true,
         "subplot": "ternary",
         "type": "scatterternary"
        },
        {
         "a": [
          153,
          176,
          35,
          120,
          41,
          140,
          44,
          182,
          14,
          100,
          0,
          61,
          5,
          57,
          9,
          54,
          20,
          76,
          8,
          43,
          4,
          23
         ],
         "b": [
          766,
          1701,
          964,
          2152,
          724,
          2215,
          796,
          2960,
          707,
          3129,
          595,
          2828,
          772,
          2915,
          797,
          3696,
          1117,
          3030,
          1295,
          2109,
          1021,
          969
         ],
         "c": [
          3027,
          2516,
          3690,
          3354,
          4286,
          3690,
          3846,
          2711,
          3188,
          2944,
          3051,
          2952,
          2592,
          2889,
          2439,
          2709,
          2420,
          2865,
          1722,
          1289,
          820,
          457
         ],
         "hovertemplate": "<b>%{hovertext}</b><br><br>設立別=私立<br>甄選入學=%{a}<br>申請入學=%{b}<br>登記分發=%{c}<br>總計=%{marker.size}<extra></extra>",
         "hovertext": [
          "92年",
          "92年",
          "93年",
          "93年",
          "94年",
          "94年",
          "95年",
          "95年",
          "96年",
          "96年",
          "97年",
          "97年",
          "98年",
          "98年",
          "99年",
          "99年",
          "100年",
          "100年",
          "101年",
          "101年",
          "102年",
          "102年"
         ],
         "legendgroup": "私立",
         "marker": {
          "color": "green",
          "size": [
           7899,
           9785,
           8790,
           11248,
           8763,
           11068,
           8248,
           10500,
           7085,
           10158,
           6914,
           10455,
           6767,
           10668,
           6436,
           10656,
           6140,
           11151,
           6058,
           9741,
           4584,
           8789
          ],
          "sizemode": "area",
          "sizeref": 69.0825,
          "symbol": "circle"
         },
         "mode": "markers",
         "name": "私立",
         "showlegend": true,
         "subplot": "ternary",
         "type": "scatterternary"
        }
       ],
       "layout": {
        "legend": {
         "itemsizing": "constant",
         "title": {
          "text": "設立別"
         },
         "tracegroupgap": 0
        },
        "margin": {
         "t": 60
        },
        "template": {
         "data": {
          "bar": [
           {
            "error_x": {
             "color": "#2a3f5f"
            },
            "error_y": {
             "color": "#2a3f5f"
            },
            "marker": {
             "line": {
              "color": "#E5ECF6",
              "width": 0.5
             },
             "pattern": {
              "fillmode": "overlay",
              "size": 10,
              "solidity": 0.2
             }
            },
            "type": "bar"
           }
          ],
          "barpolar": [
           {
            "marker": {
             "line": {
              "color": "#E5ECF6",
              "width": 0.5
             },
             "pattern": {
              "fillmode": "overlay",
              "size": 10,
              "solidity": 0.2
             }
            },
            "type": "barpolar"
           }
          ],
          "carpet": [
           {
            "aaxis": {
             "endlinecolor": "#2a3f5f",
             "gridcolor": "white",
             "linecolor": "white",
             "minorgridcolor": "white",
             "startlinecolor": "#2a3f5f"
            },
            "baxis": {
             "endlinecolor": "#2a3f5f",
             "gridcolor": "white",
             "linecolor": "white",
             "minorgridcolor": "white",
             "startlinecolor": "#2a3f5f"
            },
            "type": "carpet"
           }
          ],
          "choropleth": [
           {
            "colorbar": {
             "outlinewidth": 0,
             "ticks": ""
            },
            "type": "choropleth"
           }
          ],
          "contour": [
           {
            "colorbar": {
             "outlinewidth": 0,
             "ticks": ""
            },
            "colorscale": [
             [
              0,
              "#0d0887"
             ],
             [
              0.1111111111111111,
              "#46039f"
             ],
             [
              0.2222222222222222,
              "#7201a8"
             ],
             [
              0.3333333333333333,
              "#9c179e"
             ],
             [
              0.4444444444444444,
              "#bd3786"
             ],
             [
              0.5555555555555556,
              "#d8576b"
             ],
             [
              0.6666666666666666,
              "#ed7953"
             ],
             [
              0.7777777777777778,
              "#fb9f3a"
             ],
             [
              0.8888888888888888,
              "#fdca26"
             ],
             [
              1,
              "#f0f921"
             ]
            ],
            "type": "contour"
           }
          ],
          "contourcarpet": [
           {
            "colorbar": {
             "outlinewidth": 0,
             "ticks": ""
            },
            "type": "contourcarpet"
           }
          ],
          "heatmap": [
           {
            "colorbar": {
             "outlinewidth": 0,
             "ticks": ""
            },
            "colorscale": [
             [
              0,
              "#0d0887"
             ],
             [
              0.1111111111111111,
              "#46039f"
             ],
             [
              0.2222222222222222,
              "#7201a8"
             ],
             [
              0.3333333333333333,
              "#9c179e"
             ],
             [
              0.4444444444444444,
              "#bd3786"
             ],
             [
              0.5555555555555556,
              "#d8576b"
             ],
             [
              0.6666666666666666,
              "#ed7953"
             ],
             [
              0.7777777777777778,
              "#fb9f3a"
             ],
             [
              0.8888888888888888,
              "#fdca26"
             ],
             [
              1,
              "#f0f921"
             ]
            ],
            "type": "heatmap"
           }
          ],
          "heatmapgl": [
           {
            "colorbar": {
             "outlinewidth": 0,
             "ticks": ""
            },
            "colorscale": [
             [
              0,
              "#0d0887"
             ],
             [
              0.1111111111111111,
              "#46039f"
             ],
             [
              0.2222222222222222,
              "#7201a8"
             ],
             [
              0.3333333333333333,
              "#9c179e"
             ],
             [
              0.4444444444444444,
              "#bd3786"
             ],
             [
              0.5555555555555556,
              "#d8576b"
             ],
             [
              0.6666666666666666,
              "#ed7953"
             ],
             [
              0.7777777777777778,
              "#fb9f3a"
             ],
             [
              0.8888888888888888,
              "#fdca26"
             ],
             [
              1,
              "#f0f921"
             ]
            ],
            "type": "heatmapgl"
           }
          ],
          "histogram": [
           {
            "marker": {
             "pattern": {
              "fillmode": "overlay",
              "size": 10,
              "solidity": 0.2
             }
            },
            "type": "histogram"
           }
          ],
          "histogram2d": [
           {
            "colorbar": {
             "outlinewidth": 0,
             "ticks": ""
            },
            "colorscale": [
             [
              0,
              "#0d0887"
             ],
             [
              0.1111111111111111,
              "#46039f"
             ],
             [
              0.2222222222222222,
              "#7201a8"
             ],
             [
              0.3333333333333333,
              "#9c179e"
             ],
             [
              0.4444444444444444,
              "#bd3786"
             ],
             [
              0.5555555555555556,
              "#d8576b"
             ],
             [
              0.6666666666666666,
              "#ed7953"
             ],
             [
              0.7777777777777778,
              "#fb9f3a"
             ],
             [
              0.8888888888888888,
              "#fdca26"
             ],
             [
              1,
              "#f0f921"
             ]
            ],
            "type": "histogram2d"
           }
          ],
          "histogram2dcontour": [
           {
            "colorbar": {
             "outlinewidth": 0,
             "ticks": ""
            },
            "colorscale": [
             [
              0,
              "#0d0887"
             ],
             [
              0.1111111111111111,
              "#46039f"
             ],
             [
              0.2222222222222222,
              "#7201a8"
             ],
             [
              0.3333333333333333,
              "#9c179e"
             ],
             [
              0.4444444444444444,
              "#bd3786"
             ],
             [
              0.5555555555555556,
              "#d8576b"
             ],
             [
              0.6666666666666666,
              "#ed7953"
             ],
             [
              0.7777777777777778,
              "#fb9f3a"
             ],
             [
              0.8888888888888888,
              "#fdca26"
             ],
             [
              1,
              "#f0f921"
             ]
            ],
            "type": "histogram2dcontour"
           }
          ],
          "mesh3d": [
           {
            "colorbar": {
             "outlinewidth": 0,
             "ticks": ""
            },
            "type": "mesh3d"
           }
          ],
          "parcoords": [
           {
            "line": {
             "colorbar": {
              "outlinewidth": 0,
              "ticks": ""
             }
            },
            "type": "parcoords"
           }
          ],
          "pie": [
           {
            "automargin": true,
            "type": "pie"
           }
          ],
          "scatter": [
           {
            "fillpattern": {
             "fillmode": "overlay",
             "size": 10,
             "solidity": 0.2
            },
            "type": "scatter"
           }
          ],
          "scatter3d": [
           {
            "line": {
             "colorbar": {
              "outlinewidth": 0,
              "ticks": ""
             }
            },
            "marker": {
             "colorbar": {
              "outlinewidth": 0,
              "ticks": ""
             }
            },
            "type": "scatter3d"
           }
          ],
          "scattercarpet": [
           {
            "marker": {
             "colorbar": {
              "outlinewidth": 0,
              "ticks": ""
             }
            },
            "type": "scattercarpet"
           }
          ],
          "scattergeo": [
           {
            "marker": {
             "colorbar": {
              "outlinewidth": 0,
              "ticks": ""
             }
            },
            "type": "scattergeo"
           }
          ],
          "scattergl": [
           {
            "marker": {
             "colorbar": {
              "outlinewidth": 0,
              "ticks": ""
             }
            },
            "type": "scattergl"
           }
          ],
          "scattermapbox": [
           {
            "marker": {
             "colorbar": {
              "outlinewidth": 0,
              "ticks": ""
             }
            },
            "type": "scattermapbox"
           }
          ],
          "scatterpolar": [
           {
            "marker": {
             "colorbar": {
              "outlinewidth": 0,
              "ticks": ""
             }
            },
            "type": "scatterpolar"
           }
          ],
          "scatterpolargl": [
           {
            "marker": {
             "colorbar": {
              "outlinewidth": 0,
              "ticks": ""
             }
            },
            "type": "scatterpolargl"
           }
          ],
          "scatterternary": [
           {
            "marker": {
             "colorbar": {
              "outlinewidth": 0,
              "ticks": ""
             }
            },
            "type": "scatterternary"
           }
          ],
          "surface": [
           {
            "colorbar": {
             "outlinewidth": 0,
             "ticks": ""
            },
            "colorscale": [
             [
              0,
              "#0d0887"
             ],
             [
              0.1111111111111111,
              "#46039f"
             ],
             [
              0.2222222222222222,
              "#7201a8"
             ],
             [
              0.3333333333333333,
              "#9c179e"
             ],
             [
              0.4444444444444444,
              "#bd3786"
             ],
             [
              0.5555555555555556,
              "#d8576b"
             ],
             [
              0.6666666666666666,
              "#ed7953"
             ],
             [
              0.7777777777777778,
              "#fb9f3a"
             ],
             [
              0.8888888888888888,
              "#fdca26"
             ],
             [
              1,
              "#f0f921"
             ]
            ],
            "type": "surface"
           }
          ],
          "table": [
           {
            "cells": {
             "fill": {
              "color": "#EBF0F8"
             },
             "line": {
              "color": "white"
             }
            },
            "header": {
             "fill": {
              "color": "#C8D4E3"
             },
             "line": {
              "color": "white"
             }
            },
            "type": "table"
           }
          ]
         },
         "layout": {
          "annotationdefaults": {
           "arrowcolor": "#2a3f5f",
           "arrowhead": 0,
           "arrowwidth": 1
          },
          "autotypenumbers": "strict",
          "coloraxis": {
           "colorbar": {
            "outlinewidth": 0,
            "ticks": ""
           }
          },
          "colorscale": {
           "diverging": [
            [
             0,
             "#8e0152"
            ],
            [
             0.1,
             "#c51b7d"
            ],
            [
             0.2,
             "#de77ae"
            ],
            [
             0.3,
             "#f1b6da"
            ],
            [
             0.4,
             "#fde0ef"
            ],
            [
             0.5,
             "#f7f7f7"
            ],
            [
             0.6,
             "#e6f5d0"
            ],
            [
             0.7,
             "#b8e186"
            ],
            [
             0.8,
             "#7fbc41"
            ],
            [
             0.9,
             "#4d9221"
            ],
            [
             1,
             "#276419"
            ]
           ],
           "sequential": [
            [
             0,
             "#0d0887"
            ],
            [
             0.1111111111111111,
             "#46039f"
            ],
            [
             0.2222222222222222,
             "#7201a8"
            ],
            [
             0.3333333333333333,
             "#9c179e"
            ],
            [
             0.4444444444444444,
             "#bd3786"
            ],
            [
             0.5555555555555556,
             "#d8576b"
            ],
            [
             0.6666666666666666,
             "#ed7953"
            ],
            [
             0.7777777777777778,
             "#fb9f3a"
            ],
            [
             0.8888888888888888,
             "#fdca26"
            ],
            [
             1,
             "#f0f921"
            ]
           ],
           "sequentialminus": [
            [
             0,
             "#0d0887"
            ],
            [
             0.1111111111111111,
             "#46039f"
            ],
            [
             0.2222222222222222,
             "#7201a8"
            ],
            [
             0.3333333333333333,
             "#9c179e"
            ],
            [
             0.4444444444444444,
             "#bd3786"
            ],
            [
             0.5555555555555556,
             "#d8576b"
            ],
            [
             0.6666666666666666,
             "#ed7953"
            ],
            [
             0.7777777777777778,
             "#fb9f3a"
            ],
            [
             0.8888888888888888,
             "#fdca26"
            ],
            [
             1,
             "#f0f921"
            ]
           ]
          },
          "colorway": [
           "#636efa",
           "#EF553B",
           "#00cc96",
           "#ab63fa",
           "#FFA15A",
           "#19d3f3",
           "#FF6692",
           "#B6E880",
           "#FF97FF",
           "#FECB52"
          ],
          "font": {
           "color": "#2a3f5f"
          },
          "geo": {
           "bgcolor": "white",
           "lakecolor": "white",
           "landcolor": "#E5ECF6",
           "showlakes": true,
           "showland": true,
           "subunitcolor": "white"
          },
          "hoverlabel": {
           "align": "left"
          },
          "hovermode": "closest",
          "mapbox": {
           "style": "light"
          },
          "paper_bgcolor": "white",
          "plot_bgcolor": "#E5ECF6",
          "polar": {
           "angularaxis": {
            "gridcolor": "white",
            "linecolor": "white",
            "ticks": ""
           },
           "bgcolor": "#E5ECF6",
           "radialaxis": {
            "gridcolor": "white",
            "linecolor": "white",
            "ticks": ""
           }
          },
          "scene": {
           "xaxis": {
            "backgroundcolor": "#E5ECF6",
            "gridcolor": "white",
            "gridwidth": 2,
            "linecolor": "white",
            "showbackground": true,
            "ticks": "",
            "zerolinecolor": "white"
           },
           "yaxis": {
            "backgroundcolor": "#E5ECF6",
            "gridcolor": "white",
            "gridwidth": 2,
            "linecolor": "white",
            "showbackground": true,
            "ticks": "",
            "zerolinecolor": "white"
           },
           "zaxis": {
            "backgroundcolor": "#E5ECF6",
            "gridcolor": "white",
            "gridwidth": 2,
            "linecolor": "white",
            "showbackground": true,
            "ticks": "",
            "zerolinecolor": "white"
           }
          },
          "shapedefaults": {
           "line": {
            "color": "#2a3f5f"
           }
          },
          "ternary": {
           "aaxis": {
            "gridcolor": "white",
            "linecolor": "white",
            "ticks": ""
           },
           "baxis": {
            "gridcolor": "white",
            "linecolor": "white",
            "ticks": ""
           },
           "bgcolor": "#E5ECF6",
           "caxis": {
            "gridcolor": "white",
            "linecolor": "white",
            "ticks": ""
           }
          },
          "title": {
           "x": 0.05
          },
          "xaxis": {
           "automargin": true,
           "gridcolor": "white",
           "linecolor": "white",
           "ticks": "",
           "title": {
            "standoff": 15
           },
           "zerolinecolor": "white",
           "zerolinewidth": 2
          },
          "yaxis": {
           "automargin": true,
           "gridcolor": "white",
           "linecolor": "white",
           "ticks": "",
           "title": {
            "standoff": 15
           },
           "zerolinecolor": "white",
           "zerolinewidth": 2
          }
         }
        },
        "ternary": {
         "aaxis": {
          "title": {
           "text": "甄選入學"
          }
         },
         "baxis": {
          "title": {
           "text": "申請入學"
          }
         },
         "caxis": {
          "title": {
           "text": "登記分發"
          }
         },
         "domain": {
          "x": [
           0,
           1
          ],
          "y": [
           0,
           1
          ]
         }
        }
       }
      },
      "text/html": [
       "<div>                            <div id=\"794f85e0-797a-48c9-bfd4-1ebe262d8e62\" class=\"plotly-graph-div\" style=\"height:525px; width:100%;\"></div>            <script type=\"text/javascript\">                require([\"plotly\"], function(Plotly) {                    window.PLOTLYENV=window.PLOTLYENV || {};                                    if (document.getElementById(\"794f85e0-797a-48c9-bfd4-1ebe262d8e62\")) {                    Plotly.newPlot(                        \"794f85e0-797a-48c9-bfd4-1ebe262d8e62\",                        [{\"a\":[853,201,671,155,1006,158,1063,212,814,134,776,91,872,78,1004,84,838,96,880,64,830,43],\"b\":[4424,3224,4884,3678,4267,3812,4395,4684,4794,4847,5280,4495,5588,4574,5717,5245,5545,4349,5665,3244,5904,1939],\"c\":[16557,6416,17081,7330,17847,7522,17455,6309,16665,6728,15491,6792,14738,6784,14004,6605,14258,6507,8642,3690,5943,1501],\"hovertemplate\":\"<b>%{hovertext}</b><br><br>\\u8a2d\\u7acb\\u5225=\\u7e3d\\u8a08<br>\\u7504\\u9078\\u5165\\u5b78=%{a}<br>\\u7533\\u8acb\\u5165\\u5b78=%{b}<br>\\u767b\\u8a18\\u5206\\u767c=%{c}<br>\\u7e3d\\u8a08=%{marker.size}<extra></extra>\",\"hovertext\":[\"92\\u5e74\",\"92\\u5e74\",\"93\\u5e74\",\"93\\u5e74\",\"94\\u5e74\",\"94\\u5e74\",\"95\\u5e74\",\"95\\u5e74\",\"96\\u5e74\",\"96\\u5e74\",\"97\\u5e74\",\"97\\u5e74\",\"98\\u5e74\",\"98\\u5e74\",\"99\\u5e74\",\"99\\u5e74\",\"100\\u5e74\",\"100\\u5e74\",\"101\\u5e74\",\"101\\u5e74\",\"102\\u5e74\",\"102\\u5e74\"],\"legendgroup\":\"\\u7e3d\\u8a08\",\"marker\":{\"color\":\"white\",\"size\":[26790,15506,27470,16953,27633,16716,27187,16015,26070,15840,25463,16172,25274,16505,24972,16513,25820,17052,25070,15420,23043,14002],\"sizemode\":\"area\",\"sizeref\":69.0825,\"symbol\":\"circle\"},\"mode\":\"markers\",\"name\":\"\\u7e3d\\u8a08\",\"showlegend\":true,\"subplot\":\"ternary\",\"type\":\"scatterternary\"},{\"a\":[89,0,115,0,165,0,163,0,50,0,49,0,82,0,78,0,51,0,60,0,60,0],\"b\":[166,0,139,0,175,0,228,0,289,0,424,15,508,24,444,19,330,16,308,17,386,21],\"c\":[699,0,686,0,859,0,803,0,881,0,763,0,598,0,606,0,658,0,605,0,537,0],\"hovertemplate\":\"<b>%{hovertext}</b><br><br>\\u8a2d\\u7acb\\u5225=\\u570b\\u7acb<br>\\u7504\\u9078\\u5165\\u5b78=%{a}<br>\\u7533\\u8acb\\u5165\\u5b78=%{b}<br>\\u767b\\u8a18\\u5206\\u767c=%{c}<br>\\u7e3d\\u8a08=%{marker.size}<extra></extra>\",\"hovertext\":[\"92\\u5e74\",\"92\\u5e74\",\"93\\u5e74\",\"93\\u5e74\",\"94\\u5e74\",\"94\\u5e74\",\"95\\u5e74\",\"95\\u5e74\",\"96\\u5e74\",\"96\\u5e74\",\"97\\u5e74\",\"97\\u5e74\",\"98\\u5e74\",\"98\\u5e74\",\"99\\u5e74\",\"99\\u5e74\",\"100\\u5e74\",\"100\\u5e74\",\"101\\u5e74\",\"101\\u5e74\",\"102\\u5e74\",\"102\\u5e74\"],\"legendgroup\":\"\\u570b\\u7acb\",\"marker\":{\"color\":\"blue\",\"size\":[1060,0,1051,0,1300,0,1299,0,1327,0,1343,58,1303,152,1286,176,1293,153,1279,127,1284,140],\"sizemode\":\"area\",\"sizeref\":69.0825,\"symbol\":\"circle\"},\"mode\":\"markers\",\"name\":\"\\u570b\\u7acb\",\"showlegend\":true,\"subplot\":\"ternary\",\"type\":\"scatterternary\"},{\"a\":[611,25,521,35,800,18,856,30,750,34,727,30,785,21,917,30,767,20,812,21,766,20],\"b\":[3492,1523,3781,1526,3368,1597,3371,1724,3798,1718,4261,1652,4308,1635,4476,1530,4098,1303,4062,1118,4497,949],\"c\":[12831,3900,12705,3976,12702,3832,12806,3598,12596,3784,11677,3840,11548,3895,10959,3896,11180,3642,6315,2401,4586,1044],\"hovertemplate\":\"<b>%{hovertext}</b><br><br>\\u8a2d\\u7acb\\u5225=\\u5e02\\u7acb<br>\\u7504\\u9078\\u5165\\u5b78=%{a}<br>\\u7533\\u8acb\\u5165\\u5b78=%{b}<br>\\u767b\\u8a18\\u5206\\u767c=%{c}<br>\\u7e3d\\u8a08=%{marker.size}<extra></extra>\",\"hovertext\":[\"92\\u5e74\",\"92\\u5e74\",\"93\\u5e74\",\"93\\u5e74\",\"94\\u5e74\",\"94\\u5e74\",\"95\\u5e74\",\"95\\u5e74\",\"96\\u5e74\",\"96\\u5e74\",\"97\\u5e74\",\"97\\u5e74\",\"98\\u5e74\",\"98\\u5e74\",\"99\\u5e74\",\"99\\u5e74\",\"100\\u5e74\",\"100\\u5e74\",\"101\\u5e74\",\"101\\u5e74\",\"102\\u5e74\",\"102\\u5e74\"],\"legendgroup\":\"\\u5e02\\u7acb\",\"marker\":{\"color\":\"red\",\"size\":[17831,5721,17629,5705,17570,5648,17640,5515,17658,5682,17206,5659,17204,5685,17250,5681,18387,5748,17733,5552,17175,5073],\"sizemode\":\"area\",\"sizeref\":69.0825,\"symbol\":\"circle\"},\"mode\":\"markers\",\"name\":\"\\u5e02\\u7acb\",\"showlegend\":true,\"subplot\":\"ternary\",\"type\":\"scatterternary\"},{\"a\":[153,176,35,120,41,140,44,182,14,100,0,61,5,57,9,54,20,76,8,43,4,23],\"b\":[766,1701,964,2152,724,2215,796,2960,707,3129,595,2828,772,2915,797,3696,1117,3030,1295,2109,1021,969],\"c\":[3027,2516,3690,3354,4286,3690,3846,2711,3188,2944,3051,2952,2592,2889,2439,2709,2420,2865,1722,1289,820,457],\"hovertemplate\":\"<b>%{hovertext}</b><br><br>\\u8a2d\\u7acb\\u5225=\\u79c1\\u7acb<br>\\u7504\\u9078\\u5165\\u5b78=%{a}<br>\\u7533\\u8acb\\u5165\\u5b78=%{b}<br>\\u767b\\u8a18\\u5206\\u767c=%{c}<br>\\u7e3d\\u8a08=%{marker.size}<extra></extra>\",\"hovertext\":[\"92\\u5e74\",\"92\\u5e74\",\"93\\u5e74\",\"93\\u5e74\",\"94\\u5e74\",\"94\\u5e74\",\"95\\u5e74\",\"95\\u5e74\",\"96\\u5e74\",\"96\\u5e74\",\"97\\u5e74\",\"97\\u5e74\",\"98\\u5e74\",\"98\\u5e74\",\"99\\u5e74\",\"99\\u5e74\",\"100\\u5e74\",\"100\\u5e74\",\"101\\u5e74\",\"101\\u5e74\",\"102\\u5e74\",\"102\\u5e74\"],\"legendgroup\":\"\\u79c1\\u7acb\",\"marker\":{\"color\":\"green\",\"size\":[7899,9785,8790,11248,8763,11068,8248,10500,7085,10158,6914,10455,6767,10668,6436,10656,6140,11151,6058,9741,4584,8789],\"sizemode\":\"area\",\"sizeref\":69.0825,\"symbol\":\"circle\"},\"mode\":\"markers\",\"name\":\"\\u79c1\\u7acb\",\"showlegend\":true,\"subplot\":\"ternary\",\"type\":\"scatterternary\"}],                        {\"template\":{\"data\":{\"histogram2dcontour\":[{\"type\":\"histogram2dcontour\",\"colorbar\":{\"outlinewidth\":0,\"ticks\":\"\"},\"colorscale\":[[0.0,\"#0d0887\"],[0.1111111111111111,\"#46039f\"],[0.2222222222222222,\"#7201a8\"],[0.3333333333333333,\"#9c179e\"],[0.4444444444444444,\"#bd3786\"],[0.5555555555555556,\"#d8576b\"],[0.6666666666666666,\"#ed7953\"],[0.7777777777777778,\"#fb9f3a\"],[0.8888888888888888,\"#fdca26\"],[1.0,\"#f0f921\"]]}],\"choropleth\":[{\"type\":\"choropleth\",\"colorbar\":{\"outlinewidth\":0,\"ticks\":\"\"}}],\"histogram2d\":[{\"type\":\"histogram2d\",\"colorbar\":{\"outlinewidth\":0,\"ticks\":\"\"},\"colorscale\":[[0.0,\"#0d0887\"],[0.1111111111111111,\"#46039f\"],[0.2222222222222222,\"#7201a8\"],[0.3333333333333333,\"#9c179e\"],[0.4444444444444444,\"#bd3786\"],[0.5555555555555556,\"#d8576b\"],[0.6666666666666666,\"#ed7953\"],[0.7777777777777778,\"#fb9f3a\"],[0.8888888888888888,\"#fdca26\"],[1.0,\"#f0f921\"]]}],\"heatmap\":[{\"type\":\"heatmap\",\"colorbar\":{\"outlinewidth\":0,\"ticks\":\"\"},\"colorscale\":[[0.0,\"#0d0887\"],[0.1111111111111111,\"#46039f\"],[0.2222222222222222,\"#7201a8\"],[0.3333333333333333,\"#9c179e\"],[0.4444444444444444,\"#bd3786\"],[0.5555555555555556,\"#d8576b\"],[0.6666666666666666,\"#ed7953\"],[0.7777777777777778,\"#fb9f3a\"],[0.8888888888888888,\"#fdca26\"],[1.0,\"#f0f921\"]]}],\"heatmapgl\":[{\"type\":\"heatmapgl\",\"colorbar\":{\"outlinewidth\":0,\"ticks\":\"\"},\"colorscale\":[[0.0,\"#0d0887\"],[0.1111111111111111,\"#46039f\"],[0.2222222222222222,\"#7201a8\"],[0.3333333333333333,\"#9c179e\"],[0.4444444444444444,\"#bd3786\"],[0.5555555555555556,\"#d8576b\"],[0.6666666666666666,\"#ed7953\"],[0.7777777777777778,\"#fb9f3a\"],[0.8888888888888888,\"#fdca26\"],[1.0,\"#f0f921\"]]}],\"contourcarpet\":[{\"type\":\"contourcarpet\",\"colorbar\":{\"outlinewidth\":0,\"ticks\":\"\"}}],\"contour\":[{\"type\":\"contour\",\"colorbar\":{\"outlinewidth\":0,\"ticks\":\"\"},\"colorscale\":[[0.0,\"#0d0887\"],[0.1111111111111111,\"#46039f\"],[0.2222222222222222,\"#7201a8\"],[0.3333333333333333,\"#9c179e\"],[0.4444444444444444,\"#bd3786\"],[0.5555555555555556,\"#d8576b\"],[0.6666666666666666,\"#ed7953\"],[0.7777777777777778,\"#fb9f3a\"],[0.8888888888888888,\"#fdca26\"],[1.0,\"#f0f921\"]]}],\"surface\":[{\"type\":\"surface\",\"colorbar\":{\"outlinewidth\":0,\"ticks\":\"\"},\"colorscale\":[[0.0,\"#0d0887\"],[0.1111111111111111,\"#46039f\"],[0.2222222222222222,\"#7201a8\"],[0.3333333333333333,\"#9c179e\"],[0.4444444444444444,\"#bd3786\"],[0.5555555555555556,\"#d8576b\"],[0.6666666666666666,\"#ed7953\"],[0.7777777777777778,\"#fb9f3a\"],[0.8888888888888888,\"#fdca26\"],[1.0,\"#f0f921\"]]}],\"mesh3d\":[{\"type\":\"mesh3d\",\"colorbar\":{\"outlinewidth\":0,\"ticks\":\"\"}}],\"scatter\":[{\"fillpattern\":{\"fillmode\":\"overlay\",\"size\":10,\"solidity\":0.2},\"type\":\"scatter\"}],\"parcoords\":[{\"type\":\"parcoords\",\"line\":{\"colorbar\":{\"outlinewidth\":0,\"ticks\":\"\"}}}],\"scatterpolargl\":[{\"type\":\"scatterpolargl\",\"marker\":{\"colorbar\":{\"outlinewidth\":0,\"ticks\":\"\"}}}],\"bar\":[{\"error_x\":{\"color\":\"#2a3f5f\"},\"error_y\":{\"color\":\"#2a3f5f\"},\"marker\":{\"line\":{\"color\":\"#E5ECF6\",\"width\":0.5},\"pattern\":{\"fillmode\":\"overlay\",\"size\":10,\"solidity\":0.2}},\"type\":\"bar\"}],\"scattergeo\":[{\"type\":\"scattergeo\",\"marker\":{\"colorbar\":{\"outlinewidth\":0,\"ticks\":\"\"}}}],\"scatterpolar\":[{\"type\":\"scatterpolar\",\"marker\":{\"colorbar\":{\"outlinewidth\":0,\"ticks\":\"\"}}}],\"histogram\":[{\"marker\":{\"pattern\":{\"fillmode\":\"overlay\",\"size\":10,\"solidity\":0.2}},\"type\":\"histogram\"}],\"scattergl\":[{\"type\":\"scattergl\",\"marker\":{\"colorbar\":{\"outlinewidth\":0,\"ticks\":\"\"}}}],\"scatter3d\":[{\"type\":\"scatter3d\",\"line\":{\"colorbar\":{\"outlinewidth\":0,\"ticks\":\"\"}},\"marker\":{\"colorbar\":{\"outlinewidth\":0,\"ticks\":\"\"}}}],\"scattermapbox\":[{\"type\":\"scattermapbox\",\"marker\":{\"colorbar\":{\"outlinewidth\":0,\"ticks\":\"\"}}}],\"scatterternary\":[{\"type\":\"scatterternary\",\"marker\":{\"colorbar\":{\"outlinewidth\":0,\"ticks\":\"\"}}}],\"scattercarpet\":[{\"type\":\"scattercarpet\",\"marker\":{\"colorbar\":{\"outlinewidth\":0,\"ticks\":\"\"}}}],\"carpet\":[{\"aaxis\":{\"endlinecolor\":\"#2a3f5f\",\"gridcolor\":\"white\",\"linecolor\":\"white\",\"minorgridcolor\":\"white\",\"startlinecolor\":\"#2a3f5f\"},\"baxis\":{\"endlinecolor\":\"#2a3f5f\",\"gridcolor\":\"white\",\"linecolor\":\"white\",\"minorgridcolor\":\"white\",\"startlinecolor\":\"#2a3f5f\"},\"type\":\"carpet\"}],\"table\":[{\"cells\":{\"fill\":{\"color\":\"#EBF0F8\"},\"line\":{\"color\":\"white\"}},\"header\":{\"fill\":{\"color\":\"#C8D4E3\"},\"line\":{\"color\":\"white\"}},\"type\":\"table\"}],\"barpolar\":[{\"marker\":{\"line\":{\"color\":\"#E5ECF6\",\"width\":0.5},\"pattern\":{\"fillmode\":\"overlay\",\"size\":10,\"solidity\":0.2}},\"type\":\"barpolar\"}],\"pie\":[{\"automargin\":true,\"type\":\"pie\"}]},\"layout\":{\"autotypenumbers\":\"strict\",\"colorway\":[\"#636efa\",\"#EF553B\",\"#00cc96\",\"#ab63fa\",\"#FFA15A\",\"#19d3f3\",\"#FF6692\",\"#B6E880\",\"#FF97FF\",\"#FECB52\"],\"font\":{\"color\":\"#2a3f5f\"},\"hovermode\":\"closest\",\"hoverlabel\":{\"align\":\"left\"},\"paper_bgcolor\":\"white\",\"plot_bgcolor\":\"#E5ECF6\",\"polar\":{\"bgcolor\":\"#E5ECF6\",\"angularaxis\":{\"gridcolor\":\"white\",\"linecolor\":\"white\",\"ticks\":\"\"},\"radialaxis\":{\"gridcolor\":\"white\",\"linecolor\":\"white\",\"ticks\":\"\"}},\"ternary\":{\"bgcolor\":\"#E5ECF6\",\"aaxis\":{\"gridcolor\":\"white\",\"linecolor\":\"white\",\"ticks\":\"\"},\"baxis\":{\"gridcolor\":\"white\",\"linecolor\":\"white\",\"ticks\":\"\"},\"caxis\":{\"gridcolor\":\"white\",\"linecolor\":\"white\",\"ticks\":\"\"}},\"coloraxis\":{\"colorbar\":{\"outlinewidth\":0,\"ticks\":\"\"}},\"colorscale\":{\"sequential\":[[0.0,\"#0d0887\"],[0.1111111111111111,\"#46039f\"],[0.2222222222222222,\"#7201a8\"],[0.3333333333333333,\"#9c179e\"],[0.4444444444444444,\"#bd3786\"],[0.5555555555555556,\"#d8576b\"],[0.6666666666666666,\"#ed7953\"],[0.7777777777777778,\"#fb9f3a\"],[0.8888888888888888,\"#fdca26\"],[1.0,\"#f0f921\"]],\"sequentialminus\":[[0.0,\"#0d0887\"],[0.1111111111111111,\"#46039f\"],[0.2222222222222222,\"#7201a8\"],[0.3333333333333333,\"#9c179e\"],[0.4444444444444444,\"#bd3786\"],[0.5555555555555556,\"#d8576b\"],[0.6666666666666666,\"#ed7953\"],[0.7777777777777778,\"#fb9f3a\"],[0.8888888888888888,\"#fdca26\"],[1.0,\"#f0f921\"]],\"diverging\":[[0,\"#8e0152\"],[0.1,\"#c51b7d\"],[0.2,\"#de77ae\"],[0.3,\"#f1b6da\"],[0.4,\"#fde0ef\"],[0.5,\"#f7f7f7\"],[0.6,\"#e6f5d0\"],[0.7,\"#b8e186\"],[0.8,\"#7fbc41\"],[0.9,\"#4d9221\"],[1,\"#276419\"]]},\"xaxis\":{\"gridcolor\":\"white\",\"linecolor\":\"white\",\"ticks\":\"\",\"title\":{\"standoff\":15},\"zerolinecolor\":\"white\",\"automargin\":true,\"zerolinewidth\":2},\"yaxis\":{\"gridcolor\":\"white\",\"linecolor\":\"white\",\"ticks\":\"\",\"title\":{\"standoff\":15},\"zerolinecolor\":\"white\",\"automargin\":true,\"zerolinewidth\":2},\"scene\":{\"xaxis\":{\"backgroundcolor\":\"#E5ECF6\",\"gridcolor\":\"white\",\"linecolor\":\"white\",\"showbackground\":true,\"ticks\":\"\",\"zerolinecolor\":\"white\",\"gridwidth\":2},\"yaxis\":{\"backgroundcolor\":\"#E5ECF6\",\"gridcolor\":\"white\",\"linecolor\":\"white\",\"showbackground\":true,\"ticks\":\"\",\"zerolinecolor\":\"white\",\"gridwidth\":2},\"zaxis\":{\"backgroundcolor\":\"#E5ECF6\",\"gridcolor\":\"white\",\"linecolor\":\"white\",\"showbackground\":true,\"ticks\":\"\",\"zerolinecolor\":\"white\",\"gridwidth\":2}},\"shapedefaults\":{\"line\":{\"color\":\"#2a3f5f\"}},\"annotationdefaults\":{\"arrowcolor\":\"#2a3f5f\",\"arrowhead\":0,\"arrowwidth\":1},\"geo\":{\"bgcolor\":\"white\",\"landcolor\":\"#E5ECF6\",\"subunitcolor\":\"white\",\"showland\":true,\"showlakes\":true,\"lakecolor\":\"white\"},\"title\":{\"x\":0.05},\"mapbox\":{\"style\":\"light\"}}},\"ternary\":{\"domain\":{\"x\":[0.0,1.0],\"y\":[0.0,1.0]},\"aaxis\":{\"title\":{\"text\":\"\\u7504\\u9078\\u5165\\u5b78\"}},\"baxis\":{\"title\":{\"text\":\"\\u7533\\u8acb\\u5165\\u5b78\"}},\"caxis\":{\"title\":{\"text\":\"\\u767b\\u8a18\\u5206\\u767c\"}}},\"legend\":{\"title\":{\"text\":\"\\u8a2d\\u7acb\\u5225\"},\"tracegroupgap\":0,\"itemsizing\":\"constant\"},\"margin\":{\"t\":60}},                        {\"responsive\": true}                    ).then(function(){\n",
       "                            \n",
       "var gd = document.getElementById('794f85e0-797a-48c9-bfd4-1ebe262d8e62');\n",
       "var x = new MutationObserver(function (mutations, observer) {{\n",
       "        var display = window.getComputedStyle(gd).display;\n",
       "        if (!display || display === 'none') {{\n",
       "            console.log([gd, 'removed!']);\n",
       "            Plotly.purge(gd);\n",
       "            observer.disconnect();\n",
       "        }}\n",
       "}});\n",
       "\n",
       "// Listen for the removal of the full notebook cells\n",
       "var notebookContainer = gd.closest('#notebook-container');\n",
       "if (notebookContainer) {{\n",
       "    x.observe(notebookContainer, {childList: true});\n",
       "}}\n",
       "\n",
       "// Listen for the clearing of the current output cell\n",
       "var outputEl = gd.closest('.output');\n",
       "if (outputEl) {{\n",
       "    x.observe(outputEl, {childList: true});\n",
       "}}\n",
       "\n",
       "                        })                };                });            </script>        </div>"
      ]
     },
     "metadata": {},
     "output_type": "display_data"
    }
   ],
   "source": [
    "fig = px.scatter_ternary(df, a=\"甄選入學\", b=\"申請入學\", c=\"登記分發\", hover_name=\"學年度別\",\n",
    "     color=\"設立別\",size=\"總計\",\n",
    "      color_discrete_map = {\"國立\": \"blue\", \"私立\": \"green\", \"市立\":\"red\",\"總計\":\"white\"})\n",
    "fig.show()"
   ]
  },
  {
   "cell_type": "markdown",
   "id": "0a8b0387",
   "metadata": {},
   "source": [
    "# Q1:在圖表中，甄選入學、登記分發與申請入學哪一個占比較多?"
   ]
  },
  {
   "cell_type": "markdown",
   "id": "427a5321",
   "metadata": {},
   "source": [
    "# Q2:在圖表中哪種\"設立別\"占比最多?"
   ]
  },
  {
   "cell_type": "markdown",
   "id": "5c1212d4",
   "metadata": {},
   "source": [
    "# Q3:上國立學校的人大多都是以何種入學方式?"
   ]
  }
 ],
 "metadata": {
  "kernelspec": {
   "display_name": "Python 3 (ipykernel)",
   "language": "python",
   "name": "python3"
  },
  "language_info": {
   "codemirror_mode": {
    "name": "ipython",
    "version": 3
   },
   "file_extension": ".py",
   "mimetype": "text/x-python",
   "name": "python",
   "nbconvert_exporter": "python",
   "pygments_lexer": "ipython3",
   "version": "3.9.13"
  }
 },
 "nbformat": 4,
 "nbformat_minor": 5
}
