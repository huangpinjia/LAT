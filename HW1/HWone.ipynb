{
 "cells": [
  {
   "cell_type": "code",
   "execution_count": 2,
   "id": "e15a02af",
   "metadata": {},
   "outputs": [
    {
     "name": "stdout",
     "output_type": "stream",
     "text": [
      "      學年度別 設立別   學制別 每班教師數  每班學生數    生師比\n",
      "0      57年  總計  大專校院  2.34  35.73  15.27\n",
      "1      57年  總計  高級中學     -  51.25      -\n",
      "2      57年  總計  職業學校     -  53.46      -\n",
      "3      57年  總計  國民中學     -  53.91      -\n",
      "4      57年  總計  國民小學  1.41  56.51  40.08\n",
      "...    ...  ..   ...   ...    ...    ...\n",
      "1075  110年  私立  大專校院     -      -   30.6\n",
      "1076  110年  私立  高級中學  2.09  40.04  17.83\n",
      "1077  110年  私立  職業學校  1.76  29.05  17.79\n",
      "1078  110年  私立  國民中學     3  40.17      8\n",
      "1079  110年  私立  國民小學  1.94  37.87  19.52\n",
      "\n",
      "[1080 rows x 6 columns]\n"
     ]
    }
   ],
   "source": [
    "import pandas as pd\n",
    "\n",
    "df = pd.read_csv('hwone.csv',encoding='ANSI')\n",
    "\n",
    "print(df)"
   ]
  },
  {
   "cell_type": "markdown",
   "id": "cb6df0cd",
   "metadata": {},
   "source": [
    "# 問題一:公私立的\"師生比\"比較"
   ]
  },
  {
   "cell_type": "code",
   "execution_count": 3,
   "id": "74a8ce29",
   "metadata": {},
   "outputs": [
    {
     "data": {
      "text/html": [
       "<div>\n",
       "<style scoped>\n",
       "    .dataframe tbody tr th:only-of-type {\n",
       "        vertical-align: middle;\n",
       "    }\n",
       "\n",
       "    .dataframe tbody tr th {\n",
       "        vertical-align: top;\n",
       "    }\n",
       "\n",
       "    .dataframe thead th {\n",
       "        text-align: right;\n",
       "    }\n",
       "</style>\n",
       "<table border=\"1\" class=\"dataframe\">\n",
       "  <thead>\n",
       "    <tr style=\"text-align: right;\">\n",
       "      <th></th>\n",
       "      <th>設立別</th>\n",
       "      <th>生師比</th>\n",
       "    </tr>\n",
       "  </thead>\n",
       "  <tbody>\n",
       "    <tr>\n",
       "      <th>0</th>\n",
       "      <td>總計</td>\n",
       "      <td>15.27</td>\n",
       "    </tr>\n",
       "    <tr>\n",
       "      <th>1</th>\n",
       "      <td>總計</td>\n",
       "      <td>-</td>\n",
       "    </tr>\n",
       "    <tr>\n",
       "      <th>2</th>\n",
       "      <td>總計</td>\n",
       "      <td>-</td>\n",
       "    </tr>\n",
       "    <tr>\n",
       "      <th>3</th>\n",
       "      <td>總計</td>\n",
       "      <td>-</td>\n",
       "    </tr>\n",
       "    <tr>\n",
       "      <th>4</th>\n",
       "      <td>總計</td>\n",
       "      <td>40.08</td>\n",
       "    </tr>\n",
       "    <tr>\n",
       "      <th>...</th>\n",
       "      <td>...</td>\n",
       "      <td>...</td>\n",
       "    </tr>\n",
       "    <tr>\n",
       "      <th>1075</th>\n",
       "      <td>私立</td>\n",
       "      <td>30.6</td>\n",
       "    </tr>\n",
       "    <tr>\n",
       "      <th>1076</th>\n",
       "      <td>私立</td>\n",
       "      <td>17.83</td>\n",
       "    </tr>\n",
       "    <tr>\n",
       "      <th>1077</th>\n",
       "      <td>私立</td>\n",
       "      <td>17.79</td>\n",
       "    </tr>\n",
       "    <tr>\n",
       "      <th>1078</th>\n",
       "      <td>私立</td>\n",
       "      <td>8</td>\n",
       "    </tr>\n",
       "    <tr>\n",
       "      <th>1079</th>\n",
       "      <td>私立</td>\n",
       "      <td>19.52</td>\n",
       "    </tr>\n",
       "  </tbody>\n",
       "</table>\n",
       "<p>1080 rows × 2 columns</p>\n",
       "</div>"
      ],
      "text/plain": [
       "     設立別    生師比\n",
       "0     總計  15.27\n",
       "1     總計      -\n",
       "2     總計      -\n",
       "3     總計      -\n",
       "4     總計  40.08\n",
       "...   ..    ...\n",
       "1075  私立   30.6\n",
       "1076  私立  17.83\n",
       "1077  私立  17.79\n",
       "1078  私立      8\n",
       "1079  私立  19.52\n",
       "\n",
       "[1080 rows x 2 columns]"
      ]
     },
     "execution_count": 3,
     "metadata": {},
     "output_type": "execute_result"
    }
   ],
   "source": [
    "temp = df[['設立別','生師比']]\n",
    "temp"
   ]
  },
  {
   "cell_type": "code",
   "execution_count": 34,
   "id": "02a51513",
   "metadata": {},
   "outputs": [
    {
     "data": {
      "text/html": [
       "<div>\n",
       "<style scoped>\n",
       "    .dataframe tbody tr th:only-of-type {\n",
       "        vertical-align: middle;\n",
       "    }\n",
       "\n",
       "    .dataframe tbody tr th {\n",
       "        vertical-align: top;\n",
       "    }\n",
       "\n",
       "    .dataframe thead th {\n",
       "        text-align: right;\n",
       "    }\n",
       "</style>\n",
       "<table border=\"1\" class=\"dataframe\">\n",
       "  <thead>\n",
       "    <tr style=\"text-align: right;\">\n",
       "      <th></th>\n",
       "      <th>設立別</th>\n",
       "      <th>生師比</th>\n",
       "    </tr>\n",
       "  </thead>\n",
       "  <tbody>\n",
       "    <tr>\n",
       "      <th>0</th>\n",
       "      <td>國立</td>\n",
       "      <td>11.93---28.7911.91---27.8511.74---27.0312---26...</td>\n",
       "    </tr>\n",
       "    <tr>\n",
       "      <th>1</th>\n",
       "      <td>市立</td>\n",
       "      <td>14.45---40.3114.39---39.1713.19---38.5413.27--...</td>\n",
       "    </tr>\n",
       "    <tr>\n",
       "      <th>2</th>\n",
       "      <td>私立</td>\n",
       "      <td>20.81---38.2521.68---38.0823.09---38.7523.26--...</td>\n",
       "    </tr>\n",
       "    <tr>\n",
       "      <th>3</th>\n",
       "      <td>總計</td>\n",
       "      <td>15.27---40.0815.55---3915.82---38.4316.24---37...</td>\n",
       "    </tr>\n",
       "  </tbody>\n",
       "</table>\n",
       "</div>"
      ],
      "text/plain": [
       "  設立別                                                生師比\n",
       "0  國立  11.93---28.7911.91---27.8511.74---27.0312---26...\n",
       "1  市立  14.45---40.3114.39---39.1713.19---38.5413.27--...\n",
       "2  私立  20.81---38.2521.68---38.0823.09---38.7523.26--...\n",
       "3  總計  15.27---40.0815.55---3915.82---38.4316.24---37..."
      ]
     },
     "execution_count": 34,
     "metadata": {},
     "output_type": "execute_result"
    }
   ],
   "source": [
    "Type = temp.groupby(['設立別'])['生師比'].sum().reset_index()\n",
    "Type"
   ]
  },
  {
   "cell_type": "markdown",
   "id": "28418900",
   "metadata": {},
   "source": [
    "# 問題二:不同\"學制\"下\"每班學生數\"比較"
   ]
  },
  {
   "cell_type": "code",
   "execution_count": 37,
   "id": "52ca8def",
   "metadata": {},
   "outputs": [
    {
     "data": {
      "text/html": [
       "<div>\n",
       "<style scoped>\n",
       "    .dataframe tbody tr th:only-of-type {\n",
       "        vertical-align: middle;\n",
       "    }\n",
       "\n",
       "    .dataframe tbody tr th {\n",
       "        vertical-align: top;\n",
       "    }\n",
       "\n",
       "    .dataframe thead th {\n",
       "        text-align: right;\n",
       "    }\n",
       "</style>\n",
       "<table border=\"1\" class=\"dataframe\">\n",
       "  <thead>\n",
       "    <tr style=\"text-align: right;\">\n",
       "      <th></th>\n",
       "      <th>學制別</th>\n",
       "      <th>每班學生數</th>\n",
       "    </tr>\n",
       "  </thead>\n",
       "  <tbody>\n",
       "    <tr>\n",
       "      <th>0</th>\n",
       "      <td>大專校院</td>\n",
       "      <td>35.73</td>\n",
       "    </tr>\n",
       "    <tr>\n",
       "      <th>1</th>\n",
       "      <td>高級中學</td>\n",
       "      <td>51.25</td>\n",
       "    </tr>\n",
       "    <tr>\n",
       "      <th>2</th>\n",
       "      <td>職業學校</td>\n",
       "      <td>53.46</td>\n",
       "    </tr>\n",
       "    <tr>\n",
       "      <th>3</th>\n",
       "      <td>國民中學</td>\n",
       "      <td>53.91</td>\n",
       "    </tr>\n",
       "    <tr>\n",
       "      <th>4</th>\n",
       "      <td>國民小學</td>\n",
       "      <td>56.51</td>\n",
       "    </tr>\n",
       "    <tr>\n",
       "      <th>...</th>\n",
       "      <td>...</td>\n",
       "      <td>...</td>\n",
       "    </tr>\n",
       "    <tr>\n",
       "      <th>1075</th>\n",
       "      <td>大專校院</td>\n",
       "      <td>-</td>\n",
       "    </tr>\n",
       "    <tr>\n",
       "      <th>1076</th>\n",
       "      <td>高級中學</td>\n",
       "      <td>40.04</td>\n",
       "    </tr>\n",
       "    <tr>\n",
       "      <th>1077</th>\n",
       "      <td>職業學校</td>\n",
       "      <td>29.05</td>\n",
       "    </tr>\n",
       "    <tr>\n",
       "      <th>1078</th>\n",
       "      <td>國民中學</td>\n",
       "      <td>40.17</td>\n",
       "    </tr>\n",
       "    <tr>\n",
       "      <th>1079</th>\n",
       "      <td>國民小學</td>\n",
       "      <td>37.87</td>\n",
       "    </tr>\n",
       "  </tbody>\n",
       "</table>\n",
       "<p>1080 rows × 2 columns</p>\n",
       "</div>"
      ],
      "text/plain": [
       "       學制別  每班學生數\n",
       "0     大專校院  35.73\n",
       "1     高級中學  51.25\n",
       "2     職業學校  53.46\n",
       "3     國民中學  53.91\n",
       "4     國民小學  56.51\n",
       "...    ...    ...\n",
       "1075  大專校院      -\n",
       "1076  高級中學  40.04\n",
       "1077  職業學校  29.05\n",
       "1078  國民中學  40.17\n",
       "1079  國民小學  37.87\n",
       "\n",
       "[1080 rows x 2 columns]"
      ]
     },
     "execution_count": 37,
     "metadata": {},
     "output_type": "execute_result"
    }
   ],
   "source": [
    "Temp = df[['學制別','每班學生數']]\n",
    "Temp\n"
   ]
  },
  {
   "cell_type": "code",
   "execution_count": 39,
   "id": "b8ea0885",
   "metadata": {},
   "outputs": [
    {
     "data": {
      "text/html": [
       "<div>\n",
       "<style scoped>\n",
       "    .dataframe tbody tr th:only-of-type {\n",
       "        vertical-align: middle;\n",
       "    }\n",
       "\n",
       "    .dataframe tbody tr th {\n",
       "        vertical-align: top;\n",
       "    }\n",
       "\n",
       "    .dataframe thead th {\n",
       "        text-align: right;\n",
       "    }\n",
       "</style>\n",
       "<table border=\"1\" class=\"dataframe\">\n",
       "  <thead>\n",
       "    <tr style=\"text-align: right;\">\n",
       "      <th></th>\n",
       "      <th>學制別</th>\n",
       "      <th>每班學生數</th>\n",
       "    </tr>\n",
       "  </thead>\n",
       "  <tbody>\n",
       "    <tr>\n",
       "      <th>0</th>\n",
       "      <td>國民中學</td>\n",
       "      <td>53.91-54.1352.9851.44-51.4951.0650.22-50.3847....</td>\n",
       "    </tr>\n",
       "    <tr>\n",
       "      <th>1</th>\n",
       "      <td>國民小學</td>\n",
       "      <td>56.5151.2756.3761.2555.9149.5955.762.0355.4849...</td>\n",
       "    </tr>\n",
       "    <tr>\n",
       "      <th>2</th>\n",
       "      <td>大專校院</td>\n",
       "      <td>35.7328.3744.4346.536.1729.3744.4945.0136.4129...</td>\n",
       "    </tr>\n",
       "    <tr>\n",
       "      <th>3</th>\n",
       "      <td>職業學校</td>\n",
       "      <td>53.46-46.1756.7653.22-45.9455.9151.92-43.9954....</td>\n",
       "    </tr>\n",
       "    <tr>\n",
       "      <th>4</th>\n",
       "      <td>高級中學</td>\n",
       "      <td>51.2549.9350.8352.8751.1349.4951.3651.2651.425...</td>\n",
       "    </tr>\n",
       "  </tbody>\n",
       "</table>\n",
       "</div>"
      ],
      "text/plain": [
       "    學制別                                              每班學生數\n",
       "0  國民中學  53.91-54.1352.9851.44-51.4951.0650.22-50.3847....\n",
       "1  國民小學  56.5151.2756.3761.2555.9149.5955.762.0355.4849...\n",
       "2  大專校院  35.7328.3744.4346.536.1729.3744.4945.0136.4129...\n",
       "3  職業學校  53.46-46.1756.7653.22-45.9455.9151.92-43.9954....\n",
       "4  高級中學  51.2549.9350.8352.8751.1349.4951.3651.2651.425..."
      ]
     },
     "execution_count": 39,
     "metadata": {},
     "output_type": "execute_result"
    }
   ],
   "source": [
    "Typeone =df.groupby(['學制別'])['每班學生數'].sum().reset_index()\n",
    "Typeone"
   ]
  },
  {
   "cell_type": "markdown",
   "id": "2ce01095",
   "metadata": {},
   "source": [
    "# 問題三:57年的國私立生師比"
   ]
  },
  {
   "cell_type": "code",
   "execution_count": 7,
   "id": "7ce7f0c3",
   "metadata": {},
   "outputs": [
    {
     "data": {
      "text/html": [
       "<div>\n",
       "<style scoped>\n",
       "    .dataframe tbody tr th:only-of-type {\n",
       "        vertical-align: middle;\n",
       "    }\n",
       "\n",
       "    .dataframe tbody tr th {\n",
       "        vertical-align: top;\n",
       "    }\n",
       "\n",
       "    .dataframe thead th {\n",
       "        text-align: right;\n",
       "    }\n",
       "</style>\n",
       "<table border=\"1\" class=\"dataframe\">\n",
       "  <thead>\n",
       "    <tr style=\"text-align: right;\">\n",
       "      <th></th>\n",
       "      <th>學年度別</th>\n",
       "      <th>設立別</th>\n",
       "      <th>學制別</th>\n",
       "      <th>每班教師數</th>\n",
       "      <th>每班學生數</th>\n",
       "      <th>生師比</th>\n",
       "    </tr>\n",
       "  </thead>\n",
       "  <tbody>\n",
       "    <tr>\n",
       "      <th>0</th>\n",
       "      <td>57年</td>\n",
       "      <td>總計</td>\n",
       "      <td>大專校院</td>\n",
       "      <td>2.34</td>\n",
       "      <td>35.73</td>\n",
       "      <td>15.27</td>\n",
       "    </tr>\n",
       "    <tr>\n",
       "      <th>7</th>\n",
       "      <td>57年</td>\n",
       "      <td>國立</td>\n",
       "      <td>職業學校</td>\n",
       "      <td>-</td>\n",
       "      <td>-</td>\n",
       "      <td>-</td>\n",
       "    </tr>\n",
       "    <tr>\n",
       "      <th>8</th>\n",
       "      <td>57年</td>\n",
       "      <td>國立</td>\n",
       "      <td>國民中學</td>\n",
       "      <td>-</td>\n",
       "      <td>-</td>\n",
       "      <td>-</td>\n",
       "    </tr>\n",
       "    <tr>\n",
       "      <th>9</th>\n",
       "      <td>57年</td>\n",
       "      <td>國立</td>\n",
       "      <td>國民小學</td>\n",
       "      <td>1.78</td>\n",
       "      <td>51.27</td>\n",
       "      <td>28.79</td>\n",
       "    </tr>\n",
       "    <tr>\n",
       "      <th>10</th>\n",
       "      <td>57年</td>\n",
       "      <td>市立</td>\n",
       "      <td>大專校院</td>\n",
       "      <td>3.08</td>\n",
       "      <td>44.43</td>\n",
       "      <td>14.45</td>\n",
       "    </tr>\n",
       "    <tr>\n",
       "      <th>11</th>\n",
       "      <td>57年</td>\n",
       "      <td>市立</td>\n",
       "      <td>高級中學</td>\n",
       "      <td>-</td>\n",
       "      <td>50.83</td>\n",
       "      <td>-</td>\n",
       "    </tr>\n",
       "    <tr>\n",
       "      <th>12</th>\n",
       "      <td>57年</td>\n",
       "      <td>市立</td>\n",
       "      <td>職業學校</td>\n",
       "      <td>-</td>\n",
       "      <td>46.17</td>\n",
       "      <td>-</td>\n",
       "    </tr>\n",
       "    <tr>\n",
       "      <th>13</th>\n",
       "      <td>57年</td>\n",
       "      <td>市立</td>\n",
       "      <td>國民中學</td>\n",
       "      <td>-</td>\n",
       "      <td>54.13</td>\n",
       "      <td>-</td>\n",
       "    </tr>\n",
       "    <tr>\n",
       "      <th>14</th>\n",
       "      <td>57年</td>\n",
       "      <td>市立</td>\n",
       "      <td>國民小學</td>\n",
       "      <td>1.4</td>\n",
       "      <td>56.37</td>\n",
       "      <td>40.31</td>\n",
       "    </tr>\n",
       "    <tr>\n",
       "      <th>15</th>\n",
       "      <td>57年</td>\n",
       "      <td>私立</td>\n",
       "      <td>大專校院</td>\n",
       "      <td>2.23</td>\n",
       "      <td>46.5</td>\n",
       "      <td>20.81</td>\n",
       "    </tr>\n",
       "    <tr>\n",
       "      <th>16</th>\n",
       "      <td>57年</td>\n",
       "      <td>私立</td>\n",
       "      <td>高級中學</td>\n",
       "      <td>-</td>\n",
       "      <td>52.87</td>\n",
       "      <td>-</td>\n",
       "    </tr>\n",
       "    <tr>\n",
       "      <th>17</th>\n",
       "      <td>57年</td>\n",
       "      <td>私立</td>\n",
       "      <td>職業學校</td>\n",
       "      <td>-</td>\n",
       "      <td>56.76</td>\n",
       "      <td>-</td>\n",
       "    </tr>\n",
       "    <tr>\n",
       "      <th>18</th>\n",
       "      <td>57年</td>\n",
       "      <td>私立</td>\n",
       "      <td>國民中學</td>\n",
       "      <td>-</td>\n",
       "      <td>52.98</td>\n",
       "      <td>-</td>\n",
       "    </tr>\n",
       "    <tr>\n",
       "      <th>19</th>\n",
       "      <td>57年</td>\n",
       "      <td>私立</td>\n",
       "      <td>國民小學</td>\n",
       "      <td>1.6</td>\n",
       "      <td>61.25</td>\n",
       "      <td>38.25</td>\n",
       "    </tr>\n",
       "  </tbody>\n",
       "</table>\n",
       "</div>"
      ],
      "text/plain": [
       "   學年度別 設立別   學制別 每班教師數  每班學生數    生師比\n",
       "0   57年  總計  大專校院  2.34  35.73  15.27\n",
       "7   57年  國立  職業學校     -      -      -\n",
       "8   57年  國立  國民中學     -      -      -\n",
       "9   57年  國立  國民小學  1.78  51.27  28.79\n",
       "10  57年  市立  大專校院  3.08  44.43  14.45\n",
       "11  57年  市立  高級中學     -  50.83      -\n",
       "12  57年  市立  職業學校     -  46.17      -\n",
       "13  57年  市立  國民中學     -  54.13      -\n",
       "14  57年  市立  國民小學   1.4  56.37  40.31\n",
       "15  57年  私立  大專校院  2.23   46.5  20.81\n",
       "16  57年  私立  高級中學     -  52.87      -\n",
       "17  57年  私立  職業學校     -  56.76      -\n",
       "18  57年  私立  國民中學     -  52.98      -\n",
       "19  57年  私立  國民小學   1.6  61.25  38.25"
      ]
     },
     "execution_count": 7,
     "metadata": {},
     "output_type": "execute_result"
    }
   ],
   "source": [
    "import pandas as pd\n",
    "data = pd.read_csv('hwone.csv',encoding='ANSI')\n",
    "row_data = data.iloc[0]#取得第一行数据\n",
    "row_data = data.iloc[[ 0,7, 8,9,10,11,12,13,14,15,16,17,18,19]]  # 取得第幾行数据\n",
    "row_data"
   ]
  },
  {
   "cell_type": "code",
   "execution_count": 140,
   "id": "8c58012b",
   "metadata": {},
   "outputs": [
    {
     "data": {
      "text/html": [
       "<div>\n",
       "<style scoped>\n",
       "    .dataframe tbody tr th:only-of-type {\n",
       "        vertical-align: middle;\n",
       "    }\n",
       "\n",
       "    .dataframe tbody tr th {\n",
       "        vertical-align: top;\n",
       "    }\n",
       "\n",
       "    .dataframe thead th {\n",
       "        text-align: right;\n",
       "    }\n",
       "</style>\n",
       "<table border=\"1\" class=\"dataframe\">\n",
       "  <thead>\n",
       "    <tr style=\"text-align: right;\">\n",
       "      <th></th>\n",
       "      <th>設立別</th>\n",
       "      <th>生師比</th>\n",
       "    </tr>\n",
       "  </thead>\n",
       "  <tbody>\n",
       "    <tr>\n",
       "      <th>0</th>\n",
       "      <td>國立</td>\n",
       "      <td>--28.79</td>\n",
       "    </tr>\n",
       "    <tr>\n",
       "      <th>1</th>\n",
       "      <td>市立</td>\n",
       "      <td>14.45---40.31</td>\n",
       "    </tr>\n",
       "    <tr>\n",
       "      <th>2</th>\n",
       "      <td>私立</td>\n",
       "      <td>20.81---38.25</td>\n",
       "    </tr>\n",
       "    <tr>\n",
       "      <th>3</th>\n",
       "      <td>總計</td>\n",
       "      <td>15.27</td>\n",
       "    </tr>\n",
       "  </tbody>\n",
       "</table>\n",
       "</div>"
      ],
      "text/plain": [
       "  設立別            生師比\n",
       "0  國立        --28.79\n",
       "1  市立  14.45---40.31\n",
       "2  私立  20.81---38.25\n",
       "3  總計          15.27"
      ]
     },
     "execution_count": 140,
     "metadata": {},
     "output_type": "execute_result"
    }
   ],
   "source": [
    "df= df.replace('-', np.nan) #將數據中'-'忽略\n",
    "df.iloc[:, 5] = df.iloc[:, 5].astype(float) #將數據中的字串改成浮點數\n",
    "\n",
    "Typeone =row_data.groupby(['設立別'])['生師比'].sum().reset_index()\n",
    "Typeone"
   ]
  },
  {
   "cell_type": "code",
   "execution_count": 58,
   "id": "db3b1efc",
   "metadata": {},
   "outputs": [
    {
     "data": {
      "text/html": [
       "<div>\n",
       "<style scoped>\n",
       "    .dataframe tbody tr th:only-of-type {\n",
       "        vertical-align: middle;\n",
       "    }\n",
       "\n",
       "    .dataframe tbody tr th {\n",
       "        vertical-align: top;\n",
       "    }\n",
       "\n",
       "    .dataframe thead th {\n",
       "        text-align: right;\n",
       "    }\n",
       "</style>\n",
       "<table border=\"1\" class=\"dataframe\">\n",
       "  <thead>\n",
       "    <tr style=\"text-align: right;\">\n",
       "      <th></th>\n",
       "      <th>設立別</th>\n",
       "      <th>生師比</th>\n",
       "      <th>year</th>\n",
       "    </tr>\n",
       "  </thead>\n",
       "  <tbody>\n",
       "    <tr>\n",
       "      <th>0</th>\n",
       "      <td>國立</td>\n",
       "      <td>11.93---28.7911.91---27.8511.74---27.0312---26...</td>\n",
       "      <td>57</td>\n",
       "    </tr>\n",
       "    <tr>\n",
       "      <th>1</th>\n",
       "      <td>市立</td>\n",
       "      <td>14.45---40.3114.39---39.1713.19---38.5413.27--...</td>\n",
       "      <td>57</td>\n",
       "    </tr>\n",
       "    <tr>\n",
       "      <th>2</th>\n",
       "      <td>私立</td>\n",
       "      <td>20.81---38.2521.68---38.0823.09---38.7523.26--...</td>\n",
       "      <td>57</td>\n",
       "    </tr>\n",
       "    <tr>\n",
       "      <th>3</th>\n",
       "      <td>總計</td>\n",
       "      <td>15.27---40.0815.55---3915.82---38.4316.24---37...</td>\n",
       "      <td>57</td>\n",
       "    </tr>\n",
       "  </tbody>\n",
       "</table>\n",
       "</div>"
      ],
      "text/plain": [
       "  設立別                                                生師比  year\n",
       "0  國立  11.93---28.7911.91---27.8511.74---27.0312---26...    57\n",
       "1  市立  14.45---40.3114.39---39.1713.19---38.5413.27--...    57\n",
       "2  私立  20.81---38.2521.68---38.0823.09---38.7523.26--...    57\n",
       "3  總計  15.27---40.0815.55---3915.82---38.4316.24---37...    57"
      ]
     },
     "execution_count": 58,
     "metadata": {},
     "output_type": "execute_result"
    }
   ],
   "source": [
    "Typeone['year'] = 57\n",
    "Typeone"
   ]
  },
  {
   "cell_type": "markdown",
   "id": "225879d6",
   "metadata": {},
   "source": [
    "# 問題四:60~69年間的\"師生比\""
   ]
  },
  {
   "cell_type": "code",
   "execution_count": 18,
   "id": "b08b33d7",
   "metadata": {},
   "outputs": [
    {
     "data": {
      "text/html": [
       "<div>\n",
       "<style scoped>\n",
       "    .dataframe tbody tr th:only-of-type {\n",
       "        vertical-align: middle;\n",
       "    }\n",
       "\n",
       "    .dataframe tbody tr th {\n",
       "        vertical-align: top;\n",
       "    }\n",
       "\n",
       "    .dataframe thead th {\n",
       "        text-align: right;\n",
       "    }\n",
       "</style>\n",
       "<table border=\"1\" class=\"dataframe\">\n",
       "  <thead>\n",
       "    <tr style=\"text-align: right;\">\n",
       "      <th></th>\n",
       "      <th>學年度別</th>\n",
       "      <th>設立別</th>\n",
       "      <th>學制別</th>\n",
       "      <th>每班教師數</th>\n",
       "      <th>每班學生數</th>\n",
       "      <th>生師比</th>\n",
       "    </tr>\n",
       "  </thead>\n",
       "  <tbody>\n",
       "    <tr>\n",
       "      <th>85</th>\n",
       "      <td>61年</td>\n",
       "      <td>國立</td>\n",
       "      <td>大專校院</td>\n",
       "      <td>2.45</td>\n",
       "      <td>29.5</td>\n",
       "      <td>12.06</td>\n",
       "    </tr>\n",
       "    <tr>\n",
       "      <th>86</th>\n",
       "      <td>61年</td>\n",
       "      <td>國立</td>\n",
       "      <td>高級中學</td>\n",
       "      <td>-</td>\n",
       "      <td>50.8</td>\n",
       "      <td>-</td>\n",
       "    </tr>\n",
       "    <tr>\n",
       "      <th>87</th>\n",
       "      <td>61年</td>\n",
       "      <td>國立</td>\n",
       "      <td>職業學校</td>\n",
       "      <td>-</td>\n",
       "      <td>-</td>\n",
       "      <td>-</td>\n",
       "    </tr>\n",
       "    <tr>\n",
       "      <th>88</th>\n",
       "      <td>61年</td>\n",
       "      <td>國立</td>\n",
       "      <td>國民中學</td>\n",
       "      <td>-</td>\n",
       "      <td>-</td>\n",
       "      <td>-</td>\n",
       "    </tr>\n",
       "    <tr>\n",
       "      <th>89</th>\n",
       "      <td>61年</td>\n",
       "      <td>國立</td>\n",
       "      <td>國民小學</td>\n",
       "      <td>1.79</td>\n",
       "      <td>45.4</td>\n",
       "      <td>25.4</td>\n",
       "    </tr>\n",
       "    <tr>\n",
       "      <th>...</th>\n",
       "      <td>...</td>\n",
       "      <td>...</td>\n",
       "      <td>...</td>\n",
       "      <td>...</td>\n",
       "      <td>...</td>\n",
       "      <td>...</td>\n",
       "    </tr>\n",
       "    <tr>\n",
       "      <th>255</th>\n",
       "      <td>69年</td>\n",
       "      <td>私立</td>\n",
       "      <td>大專校院</td>\n",
       "      <td>1.76</td>\n",
       "      <td>45.78</td>\n",
       "      <td>25.97</td>\n",
       "    </tr>\n",
       "    <tr>\n",
       "      <th>256</th>\n",
       "      <td>69年</td>\n",
       "      <td>私立</td>\n",
       "      <td>高級中學</td>\n",
       "      <td>1.6</td>\n",
       "      <td>46.65</td>\n",
       "      <td>29.1</td>\n",
       "    </tr>\n",
       "    <tr>\n",
       "      <th>257</th>\n",
       "      <td>69年</td>\n",
       "      <td>私立</td>\n",
       "      <td>職業學校</td>\n",
       "      <td>1.5</td>\n",
       "      <td>51.44</td>\n",
       "      <td>34.38</td>\n",
       "    </tr>\n",
       "    <tr>\n",
       "      <th>258</th>\n",
       "      <td>69年</td>\n",
       "      <td>私立</td>\n",
       "      <td>國民中學</td>\n",
       "      <td>2.1</td>\n",
       "      <td>51.33</td>\n",
       "      <td>24.39</td>\n",
       "    </tr>\n",
       "    <tr>\n",
       "      <th>259</th>\n",
       "      <td>69年</td>\n",
       "      <td>私立</td>\n",
       "      <td>國民小學</td>\n",
       "      <td>1.73</td>\n",
       "      <td>51.72</td>\n",
       "      <td>29.9</td>\n",
       "    </tr>\n",
       "  </tbody>\n",
       "</table>\n",
       "<p>175 rows × 6 columns</p>\n",
       "</div>"
      ],
      "text/plain": [
       "    學年度別 設立別   學制別 每班教師數  每班學生數    生師比\n",
       "85   61年  國立  大專校院  2.45   29.5  12.06\n",
       "86   61年  國立  高級中學     -   50.8      -\n",
       "87   61年  國立  職業學校     -      -      -\n",
       "88   61年  國立  國民中學     -      -      -\n",
       "89   61年  國立  國民小學  1.79   45.4   25.4\n",
       "..   ...  ..   ...   ...    ...    ...\n",
       "255  69年  私立  大專校院  1.76  45.78  25.97\n",
       "256  69年  私立  高級中學   1.6  46.65   29.1\n",
       "257  69年  私立  職業學校   1.5  51.44  34.38\n",
       "258  69年  私立  國民中學   2.1  51.33  24.39\n",
       "259  69年  私立  國民小學  1.73  51.72   29.9\n",
       "\n",
       "[175 rows x 6 columns]"
      ]
     },
     "execution_count": 18,
     "metadata": {},
     "output_type": "execute_result"
    }
   ],
   "source": [
    "import pandas as pd\n",
    "\n",
    "data = pd.read_csv('hwone.csv',encoding='ANSI')  # 读取数据文件\n",
    "selected_row = data.iloc[85:260]  # 选择编号为 87 到 261 的列\n",
    "selected_row"
   ]
  },
  {
   "cell_type": "code",
   "execution_count": 145,
   "id": "b13cb5dd",
   "metadata": {},
   "outputs": [
    {
     "name": "stdout",
     "output_type": "stream",
     "text": [
      "54.16\n",
      "54.19\n",
      "55.06\n",
      "54.81999999999999\n",
      "54.81999999999999\n",
      "52.92\n",
      "51.510000000000005\n",
      "122.38\n",
      "120.76\n",
      "122.22000000000001\n"
     ]
    }
   ],
   "source": [
    "import pandas as pd\n",
    "import numpy as np\n",
    "\n",
    "df = pd.read_csv('hwone.csv',encoding='ANSI')\n",
    "df['生師比'] = df['生師比'].replace('-', np.nan) #將數據中'-'忽略\n",
    "df.iloc[:, 5] = df.iloc[:, 5].astype(float) #將數據中的字串改成浮點數\n",
    "\n",
    "resultone = df.iloc[60:65,5].sum() #60年\n",
    "resulttwo = df.iloc[80:85,5].sum() #61年\n",
    "resultthree = df.iloc[100:105,5].sum() #62年\n",
    "resultfour = df.iloc[120:125,5].sum() #63年\n",
    "resultfive = df.iloc[140:145,5].sum() #64年\n",
    "resultsix = df.iloc[160:165,5].sum() #65年\n",
    "resultseven = df.iloc[180:185,5].sum() #66年\n",
    "resulteight = df.iloc[200:205,5].sum() #67年\n",
    "resultnine = df.iloc[220:225,5].sum() #68年\n",
    "resultten = df.iloc[240:245,5].sum() #69年\n",
    "print(resultone)\n",
    "print(resulttwo)\n",
    "print(resultthree)\n",
    "print(resultfour)\n",
    "print(resultfive)\n",
    "print(resultsix)\n",
    "print(resultseven)\n",
    "print(resulteight)\n",
    "print(resultnine)\n",
    "print(resultten)"
   ]
  },
  {
   "cell_type": "code",
   "execution_count": 147,
   "id": "8ad28b31",
   "metadata": {},
   "outputs": [
    {
     "data": {
      "text/plain": [
       "742.84"
      ]
     },
     "execution_count": 147,
     "metadata": {},
     "output_type": "execute_result"
    }
   ],
   "source": [
    "tatal=resultone +resulttwo +resultthree +resultfour +resultfive+resultsix+resultseven+resulteight+resultnine+resultten\n",
    "tatal"
   ]
  },
  {
   "cell_type": "markdown",
   "id": "b7d30904",
   "metadata": {},
   "source": [
    "# 問題五:70~79年間的\"師生比\""
   ]
  },
  {
   "cell_type": "code",
   "execution_count": 151,
   "id": "5dc0d0b7",
   "metadata": {},
   "outputs": [
    {
     "name": "stdout",
     "output_type": "stream",
     "text": [
      "121.77000000000001\n",
      "120.37\n",
      "117.84\n",
      "117.62\n",
      "118.44999999999999\n",
      "116.37\n",
      "117.16\n",
      "115.72\n",
      "114.22999999999999\n",
      "111.75\n"
     ]
    }
   ],
   "source": [
    "import pandas as pd\n",
    "import numpy as np\n",
    "\n",
    "df = pd.read_csv('hwone.csv',encoding='ANSI')\n",
    "df['生師比'] = df['生師比'].replace('-', np.nan) #將數據中'-'忽略\n",
    "df.iloc[:, 5] = df.iloc[:, 5].astype(float) #將數據中的字串改成浮點數\n",
    "\n",
    "a70= df.iloc[260:265,5].sum() \n",
    "a71= df.iloc[280:285,5].sum() \n",
    "a72= df.iloc[300:305,5].sum() \n",
    "a73= df.iloc[320:325,5].sum() \n",
    "a74= df.iloc[340:345,5].sum() \n",
    "a75= df.iloc[360:365,5].sum() \n",
    "a76= df.iloc[380:385,5].sum() \n",
    "a77= df.iloc[400:405,5].sum() \n",
    "a78= df.iloc[420:425,5].sum() \n",
    "a79= df.iloc[440:445,5].sum() \n",
    "print(a70)\n",
    "print(a71)\n",
    "print(a72)\n",
    "print(a73)\n",
    "print(a74)\n",
    "print(a75)\n",
    "print(a76)\n",
    "print(a77)\n",
    "print(a78)\n",
    "print(a79)"
   ]
  },
  {
   "cell_type": "code",
   "execution_count": 153,
   "id": "18ef09d8",
   "metadata": {},
   "outputs": [
    {
     "data": {
      "text/plain": [
       "1171.28"
      ]
     },
     "execution_count": 153,
     "metadata": {},
     "output_type": "execute_result"
    }
   ],
   "source": [
    "tatal1= a70+a71+a72+a73+a74+a75+a76+a77+a78+a79\n",
    "tatal1"
   ]
  },
  {
   "cell_type": "markdown",
   "id": "302d33a5",
   "metadata": {},
   "source": [
    "# 問題六:80~89年間的\"師生比\""
   ]
  },
  {
   "cell_type": "code",
   "execution_count": 155,
   "id": "f5e45a2a",
   "metadata": {},
   "outputs": [
    {
     "name": "stdout",
     "output_type": "stream",
     "text": [
      "109.44999999999999\n",
      "110.49000000000001\n",
      "106.16\n",
      "105.84000000000002\n",
      "102.22\n",
      "99.44\n",
      "97.72\n",
      "96.96000000000001\n",
      "96.03\n",
      "95.69\n"
     ]
    }
   ],
   "source": [
    "import pandas as pd\n",
    "import numpy as np\n",
    "\n",
    "df = pd.read_csv('hwone.csv',encoding='ANSI')\n",
    "df['生師比'] = df['生師比'].replace('-', np.nan) #將數據中'-'忽略\n",
    "df.iloc[:, 5] = df.iloc[:, 5].astype(float) #將數據中的字串改成浮點數\n",
    "\n",
    "a80= df.iloc[460:465,5].sum() \n",
    "a81= df.iloc[480:485,5].sum() \n",
    "a82= df.iloc[500:505,5].sum() \n",
    "a83= df.iloc[520:525,5].sum() \n",
    "a84= df.iloc[540:545,5].sum() \n",
    "a85= df.iloc[560:565,5].sum() \n",
    "a86= df.iloc[580:585,5].sum() \n",
    "a87= df.iloc[600:605,5].sum() \n",
    "a88= df.iloc[620:625,5].sum() \n",
    "a89= df.iloc[640:645,5].sum() \n",
    "print(a80)\n",
    "print(a81)\n",
    "print(a82)\n",
    "print(a83)\n",
    "print(a84)\n",
    "print(a85)\n",
    "print(a86)\n",
    "print(a87)\n",
    "print(a88)\n",
    "print(a89)"
   ]
  },
  {
   "cell_type": "code",
   "execution_count": 158,
   "id": "b3133884",
   "metadata": {},
   "outputs": [
    {
     "data": {
      "text/plain": [
       "1020.0000000000002"
      ]
     },
     "execution_count": 158,
     "metadata": {},
     "output_type": "execute_result"
    }
   ],
   "source": [
    "tatal2=a80+a81+a82+a83+a84+a85+a86+a87+a88+a89\n",
    "tatal2"
   ]
  },
  {
   "cell_type": "markdown",
   "id": "264c7d9e",
   "metadata": {},
   "source": [
    "# 問題七:90~99年間的\"師生比\""
   ]
  },
  {
   "cell_type": "code",
   "execution_count": 157,
   "id": "016740a5",
   "metadata": {},
   "outputs": [
    {
     "name": "stdout",
     "output_type": "stream",
     "text": [
      "94.31\n",
      "92.6\n",
      "91.39999999999999\n",
      "91.55\n",
      "90.42999999999999\n",
      "90.03\n",
      "89.18\n",
      "88.33000000000001\n",
      "87.25\n",
      "85.64\n"
     ]
    }
   ],
   "source": [
    "import pandas as pd\n",
    "import numpy as np\n",
    "\n",
    "df = pd.read_csv('hwone.csv',encoding='ANSI')\n",
    "df['生師比'] = df['生師比'].replace('-', np.nan) #將數據中'-'忽略\n",
    "df.iloc[:, 5] = df.iloc[:, 5].astype(float) #將數據中的字串改成浮點數\n",
    "\n",
    "a90= df.iloc[660:665,5].sum() \n",
    "a91= df.iloc[680:685,5].sum() \n",
    "a92= df.iloc[700:705,5].sum() \n",
    "a93= df.iloc[720:725,5].sum() \n",
    "a94= df.iloc[740:745,5].sum() \n",
    "a95= df.iloc[760:765,5].sum() \n",
    "a96= df.iloc[780:785,5].sum() \n",
    "a97= df.iloc[800:805,5].sum() \n",
    "a98= df.iloc[820:825,5].sum() \n",
    "a99= df.iloc[840:845,5].sum() \n",
    "print(a90)\n",
    "print(a91)\n",
    "print(a92)\n",
    "print(a93)\n",
    "print(a94)\n",
    "print(a95)\n",
    "print(a96)\n",
    "print(a97)\n",
    "print(a98)\n",
    "print(a99)"
   ]
  },
  {
   "cell_type": "code",
   "execution_count": 159,
   "id": "812296a7",
   "metadata": {},
   "outputs": [
    {
     "data": {
      "text/plain": [
       "900.72"
      ]
     },
     "execution_count": 159,
     "metadata": {},
     "output_type": "execute_result"
    }
   ],
   "source": [
    "tatal3=a90+a91+a92+a93+a94+a95+a96+a97+a98+a99\n",
    "tatal3"
   ]
  },
  {
   "cell_type": "markdown",
   "id": "33ee16d6",
   "metadata": {},
   "source": [
    "# 問題八:100~109年間的\"師生比\""
   ]
  },
  {
   "cell_type": "code",
   "execution_count": 130,
   "id": "48c0812c",
   "metadata": {},
   "outputs": [
    {
     "name": "stdout",
     "output_type": "stream",
     "text": [
      "85.10000000000001\n",
      "83.13000000000001\n",
      "81.91\n",
      "80.38999999999999\n",
      "79.24\n",
      "78.57000000000001\n",
      "76.61\n",
      "74.89\n",
      "72.88\n",
      "72.64\n"
     ]
    }
   ],
   "source": [
    "import pandas as pd\n",
    "import numpy as np\n",
    "\n",
    "df = pd.read_csv('hwone.csv',encoding='ANSI')\n",
    "df['生師比'] = df['生師比'].replace('-', np.nan) #將數據中'-'忽略\n",
    "df.iloc[:, 5] = df.iloc[:, 5].astype(float) #將數據中的字串改成浮點數\n",
    "\n",
    "a100= df.iloc[860:865,5].sum() \n",
    "a101= df.iloc[880:885,5].sum() \n",
    "a102= df.iloc[900:905,5].sum() \n",
    "a103= df.iloc[920:925,5].sum() \n",
    "a104= df.iloc[940:945,5].sum() \n",
    "a105= df.iloc[960:965,5].sum() \n",
    "a106= df.iloc[980:985,5].sum() \n",
    "a107= df.iloc[1000:1005,5].sum() \n",
    "a108= df.iloc[1020:1025,5].sum() \n",
    "a109= df.iloc[1040:1045,5].sum() \n",
    "print(a100)\n",
    "print(a101)\n",
    "print(a102)\n",
    "print(a103)\n",
    "print(a104)\n",
    "print(a105)\n",
    "print(a106)\n",
    "print(a107)\n",
    "print(a108)\n",
    "print(a109)"
   ]
  },
  {
   "cell_type": "code",
   "execution_count": 160,
   "id": "e4a22537",
   "metadata": {},
   "outputs": [
    {
     "data": {
      "text/plain": [
       "785.3599999999999"
      ]
     },
     "execution_count": 160,
     "metadata": {},
     "output_type": "execute_result"
    }
   ],
   "source": [
    "tatal4=a100+a101+a102+a103+a104+a105+a106+a107+a108+a109\n",
    "tatal4"
   ]
  },
  {
   "cell_type": "markdown",
   "id": "096090a4",
   "metadata": {},
   "source": [
    "# 問題九:110的\"師生比\"¶"
   ]
  },
  {
   "cell_type": "code",
   "execution_count": 144,
   "id": "b7531b83",
   "metadata": {},
   "outputs": [
    {
     "name": "stdout",
     "output_type": "stream",
     "text": [
      "72.96000000000001\n"
     ]
    }
   ],
   "source": [
    "import pandas as pd\n",
    "import numpy as np\n",
    "\n",
    "df = pd.read_csv('hwone.csv',encoding='ANSI')\n",
    "df['生師比'] = df['生師比'].replace('-', np.nan) #將數據中'-'忽略\n",
    "df.iloc[:, 5] = df.iloc[:, 5].astype(float) #將數據中的字串改成浮點數\n",
    "a110= df.iloc[1060:1065,5].sum() \n",
    "print(a110)"
   ]
  },
  {
   "cell_type": "markdown",
   "id": "718c28a5",
   "metadata": {},
   "source": [
    "# 問題十: 每十年間的\"師生比\""
   ]
  },
  {
   "cell_type": "code",
   "execution_count": 177,
   "id": "85e806d4",
   "metadata": {},
   "outputs": [
    {
     "name": "stdout",
     "output_type": "stream",
     "text": [
      "         0\n",
      "0   742.84\n",
      "1  1171.28\n",
      "2  1020.00\n",
      "3   900.72\n",
      "4   785.36\n"
     ]
    }
   ],
   "source": [
    "values = [tatal, tatal1, tatal2,tatal3,tatal4]\n",
    "df = pd.DataFrame(values)\n",
    "print(df)"
   ]
  },
  {
   "cell_type": "code",
   "execution_count": 178,
   "id": "05ec8d52",
   "metadata": {},
   "outputs": [
    {
     "data": {
      "text/html": [
       "<div>\n",
       "<style scoped>\n",
       "    .dataframe tbody tr th:only-of-type {\n",
       "        vertical-align: middle;\n",
       "    }\n",
       "\n",
       "    .dataframe tbody tr th {\n",
       "        vertical-align: top;\n",
       "    }\n",
       "\n",
       "    .dataframe thead th {\n",
       "        text-align: right;\n",
       "    }\n",
       "</style>\n",
       "<table border=\"1\" class=\"dataframe\">\n",
       "  <thead>\n",
       "    <tr style=\"text-align: right;\">\n",
       "      <th></th>\n",
       "      <th>0</th>\n",
       "      <th>年份區間</th>\n",
       "    </tr>\n",
       "  </thead>\n",
       "  <tbody>\n",
       "    <tr>\n",
       "      <th>0</th>\n",
       "      <td>742.84</td>\n",
       "      <td>60~69年</td>\n",
       "    </tr>\n",
       "    <tr>\n",
       "      <th>1</th>\n",
       "      <td>1171.28</td>\n",
       "      <td>70~79年</td>\n",
       "    </tr>\n",
       "    <tr>\n",
       "      <th>2</th>\n",
       "      <td>1020.00</td>\n",
       "      <td>80~89年</td>\n",
       "    </tr>\n",
       "    <tr>\n",
       "      <th>3</th>\n",
       "      <td>900.72</td>\n",
       "      <td>90~99年</td>\n",
       "    </tr>\n",
       "    <tr>\n",
       "      <th>4</th>\n",
       "      <td>785.36</td>\n",
       "      <td>100~109年</td>\n",
       "    </tr>\n",
       "  </tbody>\n",
       "</table>\n",
       "</div>"
      ],
      "text/plain": [
       "         0      年份區間\n",
       "0   742.84    60~69年\n",
       "1  1171.28    70~79年\n",
       "2  1020.00    80~89年\n",
       "3   900.72    90~99年\n",
       "4   785.36  100~109年"
      ]
     },
     "execution_count": 178,
     "metadata": {},
     "output_type": "execute_result"
    }
   ],
   "source": [
    "import pandas as pd\n",
    "import numpy as np\n",
    "\n",
    "df = pd.DataFrame(values)\n",
    "df['年份區間'] = ['60~69年', '70~79年', '80~89年', '90~99年','100~109年']\n",
    "df"
   ]
  }
 ],
 "metadata": {
  "kernelspec": {
   "display_name": "Python 3 (ipykernel)",
   "language": "python",
   "name": "python3"
  },
  "language_info": {
   "codemirror_mode": {
    "name": "ipython",
    "version": 3
   },
   "file_extension": ".py",
   "mimetype": "text/x-python",
   "name": "python",
   "nbconvert_exporter": "python",
   "pygments_lexer": "ipython3",
   "version": "3.9.13"
  }
 },
 "nbformat": 4,
 "nbformat_minor": 5
}
