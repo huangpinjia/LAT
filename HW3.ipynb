{
 "cells": [
  {
   "cell_type": "code",
   "execution_count": 72,
   "id": "2214f068",
   "metadata": {},
   "outputs": [
    {
     "name": "stdout",
     "output_type": "stream",
     "text": [
      "Requirement already satisfied: openai in c:\\users\\pinji\\documents\\anaconda3\\lib\\site-packages (0.27.2)\n",
      "Requirement already satisfied: requests>=2.20 in c:\\users\\pinji\\documents\\anaconda3\\lib\\site-packages (from openai) (2.28.1)\n",
      "Requirement already satisfied: tqdm in c:\\users\\pinji\\documents\\anaconda3\\lib\\site-packages (from openai) (4.64.1)\n",
      "Requirement already satisfied: aiohttp in c:\\users\\pinji\\documents\\anaconda3\\lib\\site-packages (from openai) (3.8.4)\n",
      "Requirement already satisfied: charset-normalizer<3,>=2 in c:\\users\\pinji\\documents\\anaconda3\\lib\\site-packages (from requests>=2.20->openai) (2.0.4)\n",
      "Requirement already satisfied: urllib3<1.27,>=1.21.1 in c:\\users\\pinji\\documents\\anaconda3\\lib\\site-packages (from requests>=2.20->openai) (1.26.11)\n",
      "Requirement already satisfied: certifi>=2017.4.17 in c:\\users\\pinji\\documents\\anaconda3\\lib\\site-packages (from requests>=2.20->openai) (2022.9.14)\n",
      "Requirement already satisfied: idna<4,>=2.5 in c:\\users\\pinji\\documents\\anaconda3\\lib\\site-packages (from requests>=2.20->openai) (3.3)\n",
      "Requirement already satisfied: yarl<2.0,>=1.0 in c:\\users\\pinji\\documents\\anaconda3\\lib\\site-packages (from aiohttp->openai) (1.8.2)\n",
      "Requirement already satisfied: aiosignal>=1.1.2 in c:\\users\\pinji\\documents\\anaconda3\\lib\\site-packages (from aiohttp->openai) (1.3.1)\n",
      "Requirement already satisfied: multidict<7.0,>=4.5 in c:\\users\\pinji\\documents\\anaconda3\\lib\\site-packages (from aiohttp->openai) (6.0.4)\n",
      "Requirement already satisfied: attrs>=17.3.0 in c:\\users\\pinji\\documents\\anaconda3\\lib\\site-packages (from aiohttp->openai) (21.4.0)\n",
      "Requirement already satisfied: async-timeout<5.0,>=4.0.0a3 in c:\\users\\pinji\\documents\\anaconda3\\lib\\site-packages (from aiohttp->openai) (4.0.2)\n",
      "Requirement already satisfied: frozenlist>=1.1.1 in c:\\users\\pinji\\documents\\anaconda3\\lib\\site-packages (from aiohttp->openai) (1.3.3)\n",
      "Requirement already satisfied: colorama in c:\\users\\pinji\\documents\\anaconda3\\lib\\site-packages (from tqdm->openai) (0.4.5)\n",
      "Note: you may need to restart the kernel to use updated packages.\n"
     ]
    }
   ],
   "source": [
    "pip install openai"
   ]
  },
  {
   "cell_type": "code",
   "execution_count": 73,
   "id": "93f0a5c0",
   "metadata": {},
   "outputs": [],
   "source": [
    "import openai\n",
    "import pandas as pd"
   ]
  },
  {
   "cell_type": "code",
   "execution_count": 74,
   "id": "937c2931",
   "metadata": {},
   "outputs": [],
   "source": [
    "with open('01.txt', 'r',encoding='cp1252') as fh:\n",
    "    tmp = fh.read()\n",
    "    itemlist = tmp.split(',')"
   ]
  },
  {
   "cell_type": "code",
   "execution_count": 75,
   "id": "29423f75",
   "metadata": {},
   "outputs": [],
   "source": [
    "with open('02.txt', 'r',encoding='utf-8') as fh:\n",
    "    tmp = fh.read()\n",
    "    itemlist = tmp.split(',')"
   ]
  },
  {
   "cell_type": "code",
   "execution_count": 76,
   "id": "b301f02d",
   "metadata": {},
   "outputs": [],
   "source": [
    "with open('03.txt', 'r',encoding='utf-8') as fh:\n",
    "    tmp = fh.read()\n",
    "    itemlist = tmp.split(',')"
   ]
  },
  {
   "cell_type": "code",
   "execution_count": 77,
   "id": "06ce15f1",
   "metadata": {},
   "outputs": [],
   "source": [
    "itemlist = str(itemlist)"
   ]
  },
  {
   "cell_type": "code",
   "execution_count": 78,
   "id": "4ce7405c",
   "metadata": {},
   "outputs": [],
   "source": [
    "keyfile = open(\"key.txt\", \"r\")\n",
    "key = keyfile.readline()\n",
    "openai.api_key = key"
   ]
  },
  {
   "cell_type": "code",
   "execution_count": 79,
   "id": "d5f65fd6",
   "metadata": {},
   "outputs": [],
   "source": [
    "data = [itemlist[0:3200], itemlist[3201:6400], \n",
    "        itemlist[6401:9600], itemlist[9601:12800], itemlist[12801:16000]]"
   ]
  },
  {
   "cell_type": "code",
   "execution_count": 80,
   "id": "d8c658f4",
   "metadata": {},
   "outputs": [
    {
     "data": {
      "text/plain": [
       "'[\\'Past studies have shown the efficacy of flipped classrooms and gamification learning approaches. However\\', \\' we know little about the blend of these learning approaches. This study compares the effectiveness of gamified flipped classrooms (GFC) to traditional classroom (TC) learning approaches. We study two different undergraduate cohorts over six-week course delivery in management and IT in a university in UAE. We collected data through an online survey from 105 students (control and experimental) and performed interviews with two focus groups of students. We identified the GFC learning approach as more efficient in terms of complexity of the technique\\', \\' task orientation\\', \\' student engagement\\', \\' satisfaction\\', \\' knowledge\\', \\' and learning motivation. We also found a slight difference between the two approaches in terms of student skill development. Surprisingly\\', \\' the control group achieved better course learning outcomes through TC than the experimental group using GFC because of perceived content relevance. The study provides additional evidence on the relevance of employing mixed learning approaches in classrooms\\', \\' not to rely on one approach of university lecturers and learning enhancement units solely.\\\\n\\\\nThe transition from the traditional classroom (TC) learning approach to experimenting with modern technology-facilitated teaching methodologies has been developing since the beginning of the 21st century. Research studies (Lee\\', \\' 2011; Strayer\\', \\' 2012; Toqeer\\', \\' 2013) found that these methodologies had a significant impact on students’ academic performance\\', \\' engagement\\', \\' motivation\\', \\' and accelerated learning experience (Bernard & Ghaffari\\', \\' 2019; Castedo et al.\\', \\' 2019; Chen & Law\\', \\' 2016; Sung et al.\\', \\' 2017; Whitton & Langan\\', \\' 2019). Game-based learning (GBL) also became trendier in classrooms (Burke\\', \\' 2016).\\\\n\\\\nFrom another side\\', \" several studies explored the successful implementation of flipped learning (FL) and its positive impact on students\\' satisfaction and performance (Kim\", \\' 2018; Alsaleh\\', \\' 2020; Ping et al.\\', \\' 2020)\\', \\' however it is still questionable whether this impact differs across different subject area and when blended with gamification given the fact that gamification’ highlights the importance of context and individual motivation (Perryer et al.\\', \\' 2016). Therefore\\', \\' in this paper\\', \\' we will explore the impact of combination of (FL) (Baker\\', \\' 2000\\', \\' pp. 9–17; Lage et al.\\', \\' 2000) and gamification (Kapp\\', \\' 2012) on student learning experience in management subject area. Along with the blend of different learning approaches\\', \\' it is equally essential to establish relevance between course content and students’ background (Keller\\', \\' 1983; Frymier & Shulman\\', \\' 1995).\\\\n\\\\nSince we have blended FL and gamification approaches for this study\\', \\' we refer to it as gamified flipped classroom (GFC) learning approach. We aim to explore\\', \\' extend and report the efficacy of GFC as compared to a TC\\', \\' where the efficacy is measured by enhancing student engagement\\', \\' reducing the complexity of the technique\\', \\' enabling clear task orientation\\', \\' increasing student satisfaction\\', \\' and '"
      ]
     },
     "execution_count": 80,
     "metadata": {},
     "output_type": "execute_result"
    }
   ],
   "source": [
    "data[0]"
   ]
  },
  {
   "cell_type": "code",
   "execution_count": 81,
   "id": "c7b59f82",
   "metadata": {},
   "outputs": [],
   "source": [
    "def chatgptfn(sub_list):\n",
    "    result = ''\n",
    "    response = openai.ChatCompletion.create(\n",
    "        model=\"gpt-3.5-turbo\",\n",
    "        messages=[\n",
    "            {\"role\": \"system\", \"content\": \"You are an assistant\"},\n",
    "            {\"role\": \"user\", \"content\": f\"{sub_list} :give me a summary\"}\n",
    "        ]\n",
    "    )\n",
    "    for choice in response.choices:\n",
    "        result += choice.message.content\n",
    "    return result"
   ]
  },
  {
   "cell_type": "code",
   "execution_count": 82,
   "id": "f631f653",
   "metadata": {},
   "outputs": [],
   "source": [
    "for i in range(0,5):\n",
    "    data[i]=chatgptfn(data[i])"
   ]
  },
  {
   "cell_type": "code",
   "execution_count": 83,
   "id": "e02e73f6",
   "metadata": {},
   "outputs": [],
   "source": [
    "data1=''\n",
    "for i in range(0,5):\n",
    "    data1=data1+data[i]"
   ]
  },
  {
   "cell_type": "code",
   "execution_count": 84,
   "id": "f78df019",
   "metadata": {},
   "outputs": [
    {
     "data": {
      "text/plain": [
       "'The study compares the effectiveness of gamified flipped classrooms (GFC) to traditional classrooms (TC) in management and IT courses at a university in the UAE. Data was collected through an online survey and interviews with two focus groups of students. The GFC learning approach was found to be more efficient in terms of complexity of the technique, task orientation, student engagement, satisfaction, knowledge, and learning motivation. However, the control group achieved better course learning outcomes through TC than the experimental group using GFC because of perceived content relevance. The study underscores the importance of blended learning approaches and establishing relevance between course content and students’ background.The paper discusses a study which aims to compare the effectiveness of Gamified Flipped Classroom (GFC) and Traditional Classroom (TC) in terms of student engagement, task orientation clarity, complexity, course effectiveness, learning outcomes achieved, and overall satisfaction. The study involved collecting data through a secured Moodle platform and applying several statistical tests using SPSS 2020. The paper provides literature on related studies, the development of the study hypotheses, methods of data collection, and quantitative analyses. The author, Usman K. Durrani, is an Assistant Professor in the College of Engineering and Information Technology at Ajman University UAE, and his research interests include gamification, blended learning, flipped classroom approaches, and lean software engineering processes.Sorry, could you please provide more context or information about what you need me to summarize?Sure, can you please specify what kind of summary you need? Are you referring to a summary of a specific topic, article, or task? Please provide a bit more context so I can assist you better.Sure, can you please specify what you would like me to give a summary of?'"
      ]
     },
     "execution_count": 84,
     "metadata": {},
     "output_type": "execute_result"
    }
   ],
   "source": [
    "data1"
   ]
  },
  {
   "cell_type": "code",
   "execution_count": 85,
   "id": "757e29b2",
   "metadata": {},
   "outputs": [],
   "source": [
    "data2=''\n",
    "for i in range(0,5):\n",
    "    data2=data2+data[i]"
   ]
  },
  {
   "cell_type": "code",
   "execution_count": 86,
   "id": "95cb4e20",
   "metadata": {},
   "outputs": [
    {
     "data": {
      "text/plain": [
       "'The study compares the effectiveness of gamified flipped classrooms (GFC) to traditional classrooms (TC) in management and IT courses at a university in the UAE. Data was collected through an online survey and interviews with two focus groups of students. The GFC learning approach was found to be more efficient in terms of complexity of the technique, task orientation, student engagement, satisfaction, knowledge, and learning motivation. However, the control group achieved better course learning outcomes through TC than the experimental group using GFC because of perceived content relevance. The study underscores the importance of blended learning approaches and establishing relevance between course content and students’ background.The paper discusses a study which aims to compare the effectiveness of Gamified Flipped Classroom (GFC) and Traditional Classroom (TC) in terms of student engagement, task orientation clarity, complexity, course effectiveness, learning outcomes achieved, and overall satisfaction. The study involved collecting data through a secured Moodle platform and applying several statistical tests using SPSS 2020. The paper provides literature on related studies, the development of the study hypotheses, methods of data collection, and quantitative analyses. The author, Usman K. Durrani, is an Assistant Professor in the College of Engineering and Information Technology at Ajman University UAE, and his research interests include gamification, blended learning, flipped classroom approaches, and lean software engineering processes.Sorry, could you please provide more context or information about what you need me to summarize?Sure, can you please specify what kind of summary you need? Are you referring to a summary of a specific topic, article, or task? Please provide a bit more context so I can assist you better.Sure, can you please specify what you would like me to give a summary of?'"
      ]
     },
     "execution_count": 86,
     "metadata": {},
     "output_type": "execute_result"
    }
   ],
   "source": [
    "data2"
   ]
  },
  {
   "cell_type": "code",
   "execution_count": 87,
   "id": "4d2d306b",
   "metadata": {},
   "outputs": [],
   "source": [
    "data3=''\n",
    "for i in range(0,5):\n",
    "    data3=data3+data[i]"
   ]
  },
  {
   "cell_type": "code",
   "execution_count": 89,
   "id": "fd62766c",
   "metadata": {},
   "outputs": [
    {
     "data": {
      "text/plain": [
       "'The study compares the effectiveness of gamified flipped classrooms (GFC) to traditional classrooms (TC) in management and IT courses at a university in the UAE. Data was collected through an online survey and interviews with two focus groups of students. The GFC learning approach was found to be more efficient in terms of complexity of the technique, task orientation, student engagement, satisfaction, knowledge, and learning motivation. However, the control group achieved better course learning outcomes through TC than the experimental group using GFC because of perceived content relevance. The study underscores the importance of blended learning approaches and establishing relevance between course content and students’ background.The paper discusses a study which aims to compare the effectiveness of Gamified Flipped Classroom (GFC) and Traditional Classroom (TC) in terms of student engagement, task orientation clarity, complexity, course effectiveness, learning outcomes achieved, and overall satisfaction. The study involved collecting data through a secured Moodle platform and applying several statistical tests using SPSS 2020. The paper provides literature on related studies, the development of the study hypotheses, methods of data collection, and quantitative analyses. The author, Usman K. Durrani, is an Assistant Professor in the College of Engineering and Information Technology at Ajman University UAE, and his research interests include gamification, blended learning, flipped classroom approaches, and lean software engineering processes.Sorry, could you please provide more context or information about what you need me to summarize?Sure, can you please specify what kind of summary you need? Are you referring to a summary of a specific topic, article, or task? Please provide a bit more context so I can assist you better.Sure, can you please specify what you would like me to give a summary of?'"
      ]
     },
     "execution_count": 89,
     "metadata": {},
     "output_type": "execute_result"
    }
   ],
   "source": [
    "data3"
   ]
  },
  {
   "cell_type": "code",
   "execution_count": 90,
   "id": "b6be1ba4",
   "metadata": {},
   "outputs": [],
   "source": [
    "import gensim\n",
    "from gensim import corpora\n",
    "from pprint import pprint"
   ]
  },
  {
   "cell_type": "code",
   "execution_count": 91,
   "id": "cbe84ed2",
   "metadata": {},
   "outputs": [],
   "source": [
    "# 創建詞袋\n",
    "texts = [[word for word in document.lower().split()] for document in data]\n",
    "dictionary = corpora.Dictionary(texts)\n",
    "corpus = [dictionary.doc2bow(text) for text in texts]"
   ]
  },
  {
   "cell_type": "code",
   "execution_count": 92,
   "id": "5cca45f8",
   "metadata": {},
   "outputs": [],
   "source": [
    "# 訓練 LDA 模型\n",
    "lda_model = gensim.models.ldamodel.LdaModel(corpus=corpus, id2word=dictionary, \n",
    "                                            num_topics=3, random_state=100, update_every=1, \n",
    "                                            chunksize=100, passes=10, alpha='auto', per_word_topics=True)"
   ]
  },
  {
   "cell_type": "code",
   "execution_count": 93,
   "id": "2a98e54f",
   "metadata": {},
   "outputs": [
    {
     "name": "stdout",
     "output_type": "stream",
     "text": [
      "Note: you may need to restart the kernel to use updated packages.\n"
     ]
    },
    {
     "name": "stderr",
     "output_type": "stream",
     "text": [
      "ERROR: Could not find a version that satisfies the requirement pyLDAvis.gensim (from versions: none)\n",
      "ERROR: No matching distribution found for pyLDAvis.gensim\n"
     ]
    }
   ],
   "source": [
    "pip install pyLDAvis.gensim"
   ]
  },
  {
   "cell_type": "code",
   "execution_count": 94,
   "id": "4cb10d12",
   "metadata": {},
   "outputs": [
    {
     "name": "stderr",
     "output_type": "stream",
     "text": [
      "C:\\Users\\pinji\\Documents\\anaconda3\\lib\\site-packages\\pyLDAvis\\_prepare.py:243: FutureWarning: In a future version of pandas all arguments of DataFrame.drop except for the argument 'labels' will be keyword-only.\n",
      "  default_term_info = default_term_info.sort_values(\n"
     ]
    },
    {
     "data": {
      "text/html": [
       "\n",
       "<link rel=\"stylesheet\" type=\"text/css\" href=\"https://cdn.jsdelivr.net/gh/bmabey/pyLDAvis@3.4.0/pyLDAvis/js/ldavis.v1.0.0.css\">\n",
       "\n",
       "\n",
       "<div id=\"ldavis_el1333626045324263367154357016\" style=\"background-color:white;\"></div>\n",
       "<script type=\"text/javascript\">\n",
       "\n",
       "var ldavis_el1333626045324263367154357016_data = {\"mdsDat\": {\"x\": [-0.0448825323020579, 0.038990235797063504, 0.005892296504994415], \"y\": [-0.0025970319726002582, -0.003984050265232588, 0.006581082237832913], \"topics\": [1, 2, 3], \"cluster\": [1, 1, 1], \"Freq\": [94.34927049604114, 5.59584333724912, 0.0548861667097458]}, \"tinfo\": {\"Term\": [\"you\", \"to\", \"and\", \"of\", \"the\", \"a\", \"study\", \"in\", \"learning\", \"please\", \"flipped\", \"through\", \"classroom\", \"course\", \"data\", \"can\", \"summary\", \"more\", \"what\", \"terms\", \"outcomes\", \"an\", \"engagement,\", \"student\", \"blended\", \"gamified\", \"task\", \"(tc)\", \"effectiveness\", \"at\", \"the\", \"of\", \"and\", \"a\", \"learning\", \"study\", \"in\", \"summary\", \"can\", \"through\", \"data\", \"course\", \"classroom\", \"flipped\", \"sure,\", \"specify\", \"classrooms\", \"was\", \"effectiveness\", \"traditional\", \"content\", \"group\", \"at\", \"(tc)\", \"gfc\", \"terms\", \"using\", \"task\", \"paper\", \"university\", \"to\", \"you\", \"please\", \"engineering\", \"what\", \"more\", \"could\", \"sorry,\", \"about\", \"need\", \"summarize?\", \"context\", \"information\", \"me\", \"provide\", \"or\", \"more\", \"what\", \"please\", \"you\", \"studies,\", \"provides\", \"usman\", \"his\", \"uae,\", \"tests\", \"complexity,\", \"durrani,\", \"satisfaction.\", \"lean\", \"collection,\", \"on\", \"software\", \"interests\", \"processes.\", \"overall\", \"to\", \"statistical\", \"aims\", \"approaches,\", \"the\", \"and\", \"of\", \"in\", \"study\", \"flipped\", \"classroom\", \"learning\", \"course\", \"(gfc)\", \"data\", \"engineering\", \"engagement,\", \"student\", \"university\", \"could\", \"sorry,\", \"about\", \"need\", \"summarize?\", \"platform\", \"uae,\", \"studies,\", \"management\", \"provides\", \"lean\", \"assistant\", \"overall\", \"learning,\", \"literature\", \"efficient\", \"courses\", \"his\", \"compare\", \"durrani,\", \"tests\", \"processes.\", \"because\", \"achieved,\", \"achieved\", \"is\", \"hypotheses,\", \"which\", \"collection,\", \"with\", \"and\", \"the\", \"of\", \"study\", \"in\", \"flipped\", \"terms\", \"outcomes\", \"through\", \"classroom\", \"an\", \"learning\", \"engagement,\", \"student\", \"a\", \"to\", \"course\", \"data\", \"blended\", \"gamified\", \"task\", \"(tc)\", \"effectiveness\", \"at\", \"(gfc)\", \"gfc\", \"paper\", \"was\", \"group\", \"using\"], \"Freq\": [5.0, 4.0, 10.0, 11.0, 14.0, 6.0, 4.0, 4.0, 4.0, 3.0, 2.0, 2.0, 2.0, 2.0, 2.0, 2.0, 2.0, 2.0, 2.0, 2.0, 2.0, 2.0, 2.0, 2.0, 2.0, 2.0, 2.0, 2.0, 2.0, 2.0, 14.35984338981573, 11.047966221491885, 10.20989264541556, 6.077168367939974, 4.41794466438053, 4.414961060744147, 4.41609199527679, 2.7653357758665296, 2.765234853232195, 2.7604449097410844, 2.760878401254814, 2.760235301192851, 2.7596866126275232, 2.759378585728686, 1.9357341916501025, 1.9357348177210352, 1.933442646822612, 1.9329673337705846, 1.9326735812890103, 1.9330569871281325, 1.9332153830740795, 1.9329260130890333, 1.9326126019801753, 1.9325173139842342, 1.9326275024683712, 1.9317536326606528, 1.9328855689067876, 1.9323655543901728, 1.9326139793362271, 1.9331065719459941, 4.441808985760877, 5.293955133831739, 2.7859477839662246, 1.9326442811693647, 1.9509086484860083, 1.9462334011897493, 0.2969908746032901, 0.2969900428422772, 0.2969612579700813, 0.2969472368558641, 0.2967514759603317, 0.2963465271700588, 0.2961322298862392, 0.2961016626690157, 0.29556782062749626, 0.29537167355720784, 0.29531009353650395, 0.2945365557945214, 0.29305058503925296, 0.511835249229089, 0.07486562796614425, 0.07484534636501758, 0.07484663856516259, 0.07482755262049194, 0.07480833299994422, 0.07482529498345697, 0.07484956458158291, 0.07481567032030788, 0.07483833580790898, 0.07480146354515031, 0.0748158262754978, 0.07484435864881478, 0.07482282197973117, 0.07482403991550003, 0.07480316419936416, 0.07479379203509398, 0.2927870356211705, 0.07483155547036645, 0.0748129596705784, 0.07481036784385074, 0.07612778817100825, 0.07582421025418068, 0.07553672542766489, 0.07535611446486713, 0.07531357583020819, 0.07507018176381289, 0.07506128489155008, 0.07505875990276097, 0.07505119978926886, 0.07499539753702944, 0.07498699080964923, 0.07496079033774336, 0.07495578491879083, 0.0749335501645714, 0.07492927996294275, 0.0009361621407413339, 0.000936158280150637, 0.0009361325671597692, 0.000936162796313339, 0.0009361036491502097, 0.0009434973359067204, 0.000943263515224891, 0.0009430387997097997, 0.0009428497764483208, 0.0009426574753268164, 0.0009427136359952558, 0.00094255994078072, 0.0009425496701526396, 0.0009424874636534864, 0.0009423531442337687, 0.0009423797313206435, 0.0009423637062271848, 0.0009422097196473134, 0.0009422685754451072, 0.000942179126287074, 0.0009420324966819269, 0.0009420708840648939, 0.0009419511329119571, 0.000941892422796831, 0.0009419640986693918, 0.0009418860856007815, 0.0009418602269272459, 0.0009418681666326413, 0.0009416964796086315, 0.0009417522032290674, 0.0010001962289623001, 0.0009918296733501784, 0.0009755317890960064, 0.0009622299417466069, 0.0009578679841484814, 0.0009522220523576442, 0.0009482554046786114, 0.0009482385054891459, 0.0009513043972331316, 0.0009512910672690273, 0.0009478116552724731, 0.0009553279339939429, 0.0009476248172510114, 0.0009475470955477367, 0.0009577537689369212, 0.0009527403912896994, 0.0009495613769541619, 0.0009481891190647595, 0.0009466952161477387, 0.0009459158138749744, 0.000945762628549776, 0.0009454277040964891, 0.0009453266003250315, 0.0009453228125756685, 0.0009450380029601069, 0.0009448484698092908, 0.0009445168232160295, 0.0009444965733252044, 0.0009442044067349187, 0.0009437898667036756], \"Total\": [5.0, 4.0, 10.0, 11.0, 14.0, 6.0, 4.0, 4.0, 4.0, 3.0, 2.0, 2.0, 2.0, 2.0, 2.0, 2.0, 2.0, 2.0, 2.0, 2.0, 2.0, 2.0, 2.0, 2.0, 2.0, 2.0, 2.0, 2.0, 2.0, 2.0, 14.436963007660088, 11.124478478708646, 10.286717051898702, 6.153050166033335, 4.493958752217284, 4.491236866516102, 4.492405977725805, 2.8409408768380366, 2.840846601857709, 2.83625185354587, 2.836813581183528, 2.836236062359074, 2.8356991885863425, 2.8354009895448566, 2.0113376638708527, 2.0113440884989515, 2.009149734945584, 2.0087048723088046, 2.0084250797959338, 2.0088308821704413, 2.008995657506717, 2.008697725557634, 2.008380880448359, 2.008303000943582, 2.008429059752749, 2.0075226677747184, 2.008700875904664, 2.0081658201813197, 2.008445363737166, 2.0089781698708062, 4.735548761773337, 5.806728892659237, 3.079935694130956, 2.0085485580624973, 2.2463818968518643, 2.2424863115055773, 0.5804930081089521, 0.5804964610732367, 0.5805818458261556, 0.5806109599248013, 0.581157691311712, 1.4117606170823507, 1.4109535075482695, 1.4125357404974093, 1.4138643518939806, 1.4143975681364767, 2.2424863115055773, 2.2463818968518643, 3.079935694130956, 5.806728892659237, 1.1792151109306301, 1.1793823944990862, 1.1798507616912817, 1.1795623670561413, 1.1793040404214268, 1.1796207862907893, 1.1800221186343653, 1.1796036701918675, 1.1799633604786592, 1.1794845675813688, 1.179745336387892, 1.1802019170625075, 1.1798920100101358, 1.179928153744393, 1.179669314695276, 1.1795537388301796, 4.735548761773337, 1.1804241303498302, 1.179986846063734, 1.180239108810908, 14.436963007660088, 10.286717051898702, 11.124478478708646, 4.492405977725805, 4.491236866516102, 2.8354009895448566, 2.8356991885863425, 4.493958752217284, 2.836236062359074, 2.0079978378171384, 2.836813581183528, 2.0085485580624973, 2.0073431304310905, 2.0074261230860304, 2.0089781698708062, 0.5804930081089521, 0.5804964610732367, 0.5805818458261556, 0.5806109599248013, 0.581157691311712, 1.1794074149681917, 1.1793040404214268, 1.1792151109306301, 1.1796076339618913, 1.1793823944990862, 1.1794845675813688, 1.1795581311010837, 1.1795537388301796, 1.179610561800715, 1.1796938276842033, 1.1797342554177452, 1.1797509670069175, 1.1795623670561413, 1.1796925261293998, 1.1796036701918675, 1.1796207862907893, 1.179669314695276, 1.1797714617977464, 1.1797489188207126, 1.1798908652110072, 1.1798223369102014, 1.1797914035873507, 1.1798219896184714, 1.179745336387892, 1.1798833155590396, 10.286717051898702, 14.436963007660088, 11.124478478708646, 4.491236866516102, 4.492405977725805, 2.8354009895448566, 2.0075226677747184, 2.0073787674209407, 2.83625185354587, 2.8356991885863425, 2.0074902586961567, 4.493958752217284, 2.0073431304310905, 2.0074261230860304, 6.153050166033335, 4.735548761773337, 2.836236062359074, 2.836813581183528, 2.0077501067259593, 2.0079379593515045, 2.0081658201813197, 2.008303000943582, 2.0084250797959338, 2.008380880448359, 2.0079978378171384, 2.008429059752749, 2.008445363737166, 2.0087048723088046, 2.008697725557634, 2.008700875904664], \"Category\": [\"Default\", \"Default\", \"Default\", \"Default\", \"Default\", \"Default\", \"Default\", \"Default\", \"Default\", \"Default\", \"Default\", \"Default\", \"Default\", \"Default\", \"Default\", \"Default\", \"Default\", \"Default\", \"Default\", \"Default\", \"Default\", \"Default\", \"Default\", \"Default\", \"Default\", \"Default\", \"Default\", \"Default\", \"Default\", \"Default\", \"Topic1\", \"Topic1\", \"Topic1\", \"Topic1\", \"Topic1\", \"Topic1\", \"Topic1\", \"Topic1\", \"Topic1\", \"Topic1\", \"Topic1\", \"Topic1\", \"Topic1\", \"Topic1\", \"Topic1\", \"Topic1\", \"Topic1\", \"Topic1\", \"Topic1\", \"Topic1\", \"Topic1\", \"Topic1\", \"Topic1\", \"Topic1\", \"Topic1\", \"Topic1\", \"Topic1\", \"Topic1\", \"Topic1\", \"Topic1\", \"Topic1\", \"Topic1\", \"Topic1\", \"Topic1\", \"Topic1\", \"Topic1\", \"Topic2\", \"Topic2\", \"Topic2\", \"Topic2\", \"Topic2\", \"Topic2\", \"Topic2\", \"Topic2\", \"Topic2\", \"Topic2\", \"Topic2\", \"Topic2\", \"Topic2\", \"Topic2\", \"Topic2\", \"Topic2\", \"Topic2\", \"Topic2\", \"Topic2\", \"Topic2\", \"Topic2\", \"Topic2\", \"Topic2\", \"Topic2\", \"Topic2\", \"Topic2\", \"Topic2\", \"Topic2\", \"Topic2\", \"Topic2\", \"Topic2\", \"Topic2\", \"Topic2\", \"Topic2\", \"Topic2\", \"Topic2\", \"Topic2\", \"Topic2\", \"Topic2\", \"Topic2\", \"Topic2\", \"Topic2\", \"Topic2\", \"Topic2\", \"Topic2\", \"Topic2\", \"Topic2\", \"Topic2\", \"Topic2\", \"Topic3\", \"Topic3\", \"Topic3\", \"Topic3\", \"Topic3\", \"Topic3\", \"Topic3\", \"Topic3\", \"Topic3\", \"Topic3\", \"Topic3\", \"Topic3\", \"Topic3\", \"Topic3\", \"Topic3\", \"Topic3\", \"Topic3\", \"Topic3\", \"Topic3\", \"Topic3\", \"Topic3\", \"Topic3\", \"Topic3\", \"Topic3\", \"Topic3\", \"Topic3\", \"Topic3\", \"Topic3\", \"Topic3\", \"Topic3\", \"Topic3\", \"Topic3\", \"Topic3\", \"Topic3\", \"Topic3\", \"Topic3\", \"Topic3\", \"Topic3\", \"Topic3\", \"Topic3\", \"Topic3\", \"Topic3\", \"Topic3\", \"Topic3\", \"Topic3\", \"Topic3\", \"Topic3\", \"Topic3\", \"Topic3\", \"Topic3\", \"Topic3\", \"Topic3\", \"Topic3\", \"Topic3\", \"Topic3\", \"Topic3\", \"Topic3\", \"Topic3\", \"Topic3\", \"Topic3\"], \"logprob\": [30.0, 29.0, 28.0, 27.0, 26.0, 25.0, 24.0, 23.0, 22.0, 21.0, 20.0, 19.0, 18.0, 17.0, 16.0, 15.0, 14.0, 13.0, 12.0, 11.0, 10.0, 9.0, 8.0, 7.0, 6.0, 5.0, 4.0, 3.0, 2.0, 1.0, -2.9299, -3.1921, -3.271, -3.7898, -4.1086, -4.1093, -4.1091, -4.5772, -4.5772, -4.5789, -4.5788, -4.579, -4.5792, -4.5793, -4.9338, -4.9338, -4.935, -4.9353, -4.9354, -4.9352, -4.9351, -4.9353, -4.9354, -4.9355, -4.9354, -4.9359, -4.9353, -4.9356, -4.9354, -4.9352, -4.1033, -3.9278, -4.5697, -4.9354, -4.926, -4.9284, -3.9834, -3.9834, -3.9835, -3.9835, -3.9842, -3.9856, -3.9863, -3.9864, -3.9882, -3.9889, -3.9891, -3.9917, -3.9968, -3.4391, -5.3614, -5.3617, -5.3617, -5.3619, -5.3622, -5.3619, -5.3616, -5.3621, -5.3618, -5.3623, -5.3621, -5.3617, -5.362, -5.362, -5.3622, -5.3624, -3.9977, -5.3619, -5.3621, -5.3621, -5.3447, -5.3487, -5.3525, -5.3549, -5.3554, -5.3587, -5.3588, -5.3588, -5.3589, -5.3597, -5.3598, -5.3601, -5.3602, -5.3605, -5.3606, -5.1185, -5.1186, -5.1186, -5.1185, -5.1186, -5.1107, -5.111, -5.1112, -5.1114, -5.1116, -5.1116, -5.1117, -5.1117, -5.1118, -5.112, -5.1119, -5.1119, -5.1121, -5.112, -5.1121, -5.1123, -5.1123, -5.1124, -5.1124, -5.1124, -5.1125, -5.1125, -5.1125, -5.1127, -5.1126, -5.0524, -5.0608, -5.0774, -5.0911, -5.0956, -5.1015, -5.1057, -5.1057, -5.1025, -5.1025, -5.1062, -5.0983, -5.1064, -5.1065, -5.0957, -5.101, -5.1043, -5.1058, -5.1074, -5.1082, -5.1083, -5.1087, -5.1088, -5.1088, -5.1091, -5.1093, -5.1097, -5.1097, -5.11, -5.1104], \"loglift\": [30.0, 29.0, 28.0, 27.0, 26.0, 25.0, 24.0, 23.0, 22.0, 21.0, 20.0, 19.0, 18.0, 17.0, 16.0, 15.0, 14.0, 13.0, 12.0, 11.0, 10.0, 9.0, 8.0, 7.0, 6.0, 5.0, 4.0, 3.0, 2.0, 1.0, 0.0528, 0.0513, 0.0507, 0.0458, 0.0411, 0.041, 0.041, 0.0312, 0.0312, 0.0311, 0.031, 0.031, 0.031, 0.031, 0.0199, 0.0199, 0.0198, 0.0197, 0.0197, 0.0197, 0.0197, 0.0197, 0.0197, 0.0197, 0.0197, 0.0197, 0.0197, 0.0197, 0.0197, 0.0197, -0.0059, -0.0343, -0.0422, 0.0196, -0.0829, -0.0835, 2.213, 2.213, 2.2127, 2.2126, 2.211, 1.3221, 1.3219, 1.3207, 1.318, 1.3169, 0.8558, 0.8515, 0.5308, 0.4544, 0.1262, 0.1258, 0.1254, 0.1254, 0.1254, 0.1254, 0.1253, 0.1252, 0.1252, 0.1252, 0.1251, 0.1251, 0.1251, 0.1251, 0.125, 0.125, 0.0997, 0.1248, 0.1249, 0.1246, -2.362, -2.027, -2.1091, -1.2048, -1.2051, -0.7484, -0.7486, -1.2091, -0.7489, -0.4043, -0.75, -0.4051, -0.4045, -0.4049, -0.4057, 1.0778, 1.0778, 1.0776, 1.0776, 1.0766, 0.3767, 0.3766, 0.3764, 0.3759, 0.3759, 0.3758, 0.3756, 0.3756, 0.3755, 0.3753, 0.3753, 0.3752, 0.3752, 0.3752, 0.3752, 0.375, 0.375, 0.3748, 0.3747, 0.3747, 0.3747, 0.3747, 0.3747, 0.3745, 0.3745, -1.7307, -2.0781, -1.834, -0.9407, -0.9455, -0.4912, -0.1501, -0.1501, -0.4925, -0.4923, -0.1506, -0.9485, -0.1507, -0.1508, -1.2602, -1.0036, -0.4943, -0.496, -0.1519, -0.1528, -0.1531, -0.1535, -0.1537, -0.1536, -0.1538, -0.1542, -0.1545, -0.1547, -0.155, -0.1554]}, \"token.table\": {\"Topic\": [1, 1, 1, 1, 1, 1, 1, 1, 1, 1, 1, 1, 1, 1, 1, 1, 1, 1, 1, 1, 1, 1, 1, 1, 1, 1, 1, 1, 1, 1, 1, 1, 1, 1, 1, 1, 1, 1, 1, 1, 1, 1, 1, 1, 1, 1, 1, 1, 1, 1, 1, 1, 1, 1, 1, 1, 1, 1, 1, 1, 1, 1, 1, 1, 1, 1, 1, 1, 1, 1, 1, 1, 1, 1, 1, 1, 1, 1, 1, 1, 1, 1, 2], \"Freq\": [0.9960170087504513, 0.9958656632292633, 0.9751261306338412, 0.847536013274553, 0.8476379880895409, 0.8474670741761706, 0.9962688443125888, 0.9721274483927037, 0.8472859376838485, 0.8477750893603936, 0.9958270462889052, 0.8476217914918801, 0.9961399047122466, 1.0560232284412034, 1.0579401412092533, 0.9954459666263592, 0.8476405620400833, 0.8476785076201377, 0.8474417421575926, 0.9955223111244146, 0.7083353848378872, 1.0577398827320155, 0.8476365164904641, 1.0575245479290147, 0.8477423606501205, 0.9958051311544119, 0.8476485237312185, 0.9963418658625077, 0.9957439126735659, 1.0580514047438365, 0.9960467108485422, 0.995803157840294, 0.9956699679364551, 0.847772044894685, 0.8476074643020239, 0.8903914783821305, 0.7087405748313004, 0.8475092291226312, 0.847585241197304, 0.8478279644222757, 0.8900838259867052, 0.8477374079064419, 0.8476775723774439, 0.8477395120285448, 0.7079466885898836, 0.8918672054935421, 0.9888103987124531, 0.8473126382381877, 0.7070147902739529, 0.9963241778080473, 0.847778246196522, 0.9957950741953708, 0.8478834262941867, 0.9740463106800316, 0.8476951867297771, 0.707281429551868, 0.8479014140487704, 0.8474839418694695, 0.8475351909463389, 0.9943599463842024, 0.8471531327503787, 0.996300674281047, 0.848021697424489, 0.8906232556607152, 1.0559881849209745, 0.9943631225753347, 0.9959336922781693, 0.9962527607306885, 0.8477300600512555, 0.9697330382139069, 1.0577339936329748, 0.8446750738349712, 0.995603969329215, 0.8479577494219793, 0.9955309768889208, 0.9956684063769597, 0.8475648213054753, 0.9956664254521377, 0.8903205651732014, 0.8475854906920137, 0.8475414363548236, 0.8610699918022539, 0.1722139983604508], \"Term\": [\"(gfc)\", \"(tc)\", \"a\", \"achieved\", \"achieved,\", \"aims\", \"an\", \"and\", \"approaches,\", \"assistant\", \"at\", \"because\", \"blended\", \"can\", \"classroom\", \"classrooms\", \"collection,\", \"compare\", \"complexity,\", \"content\", \"context\", \"course\", \"courses\", \"data\", \"durrani,\", \"effectiveness\", \"efficient\", \"engagement,\", \"engineering\", \"flipped\", \"gamified\", \"gfc\", \"group\", \"his\", \"hypotheses,\", \"in\", \"information\", \"interests\", \"is\", \"lean\", \"learning\", \"learning,\", \"literature\", \"management\", \"me\", \"more\", \"of\", \"on\", \"or\", \"outcomes\", \"overall\", \"paper\", \"platform\", \"please\", \"processes.\", \"provide\", \"provides\", \"satisfaction.\", \"software\", \"specify\", \"statistical\", \"student\", \"studies,\", \"study\", \"summary\", \"sure,\", \"task\", \"terms\", \"tests\", \"the\", \"through\", \"to\", \"traditional\", \"uae,\", \"university\", \"using\", \"usman\", \"was\", \"what\", \"which\", \"with\", \"you\", \"you\"]}, \"R\": 30, \"lambda.step\": 0.01, \"plot.opts\": {\"xlab\": \"PC1\", \"ylab\": \"PC2\"}, \"topic.order\": [1, 3, 2]};\n",
       "\n",
       "function LDAvis_load_lib(url, callback){\n",
       "  var s = document.createElement('script');\n",
       "  s.src = url;\n",
       "  s.async = true;\n",
       "  s.onreadystatechange = s.onload = callback;\n",
       "  s.onerror = function(){console.warn(\"failed to load library \" + url);};\n",
       "  document.getElementsByTagName(\"head\")[0].appendChild(s);\n",
       "}\n",
       "\n",
       "if(typeof(LDAvis) !== \"undefined\"){\n",
       "   // already loaded: just create the visualization\n",
       "   !function(LDAvis){\n",
       "       new LDAvis(\"#\" + \"ldavis_el1333626045324263367154357016\", ldavis_el1333626045324263367154357016_data);\n",
       "   }(LDAvis);\n",
       "}else if(typeof define === \"function\" && define.amd){\n",
       "   // require.js is available: use it to load d3/LDAvis\n",
       "   require.config({paths: {d3: \"https://d3js.org/d3.v5\"}});\n",
       "   require([\"d3\"], function(d3){\n",
       "      window.d3 = d3;\n",
       "      LDAvis_load_lib(\"https://cdn.jsdelivr.net/gh/bmabey/pyLDAvis@3.4.0/pyLDAvis/js/ldavis.v3.0.0.js\", function(){\n",
       "        new LDAvis(\"#\" + \"ldavis_el1333626045324263367154357016\", ldavis_el1333626045324263367154357016_data);\n",
       "      });\n",
       "    });\n",
       "}else{\n",
       "    // require.js not available: dynamically load d3 & LDAvis\n",
       "    LDAvis_load_lib(\"https://d3js.org/d3.v5.js\", function(){\n",
       "         LDAvis_load_lib(\"https://cdn.jsdelivr.net/gh/bmabey/pyLDAvis@3.4.0/pyLDAvis/js/ldavis.v3.0.0.js\", function(){\n",
       "                 new LDAvis(\"#\" + \"ldavis_el1333626045324263367154357016\", ldavis_el1333626045324263367154357016_data);\n",
       "            })\n",
       "         });\n",
       "}\n",
       "</script>"
      ],
      "text/plain": [
       "<IPython.core.display.HTML object>"
      ]
     },
     "execution_count": 94,
     "metadata": {},
     "output_type": "execute_result"
    }
   ],
   "source": [
    "# 輸出主題模型分析結果\n",
    "import pyLDAvis.gensim\n",
    "pyLDAvis.enable_notebook()\n",
    "vis = pyLDAvis.gensim.prepare(lda_model, corpus, dictionary)\n",
    "pyLDAvis.display(vis)"
   ]
  },
  {
   "cell_type": "code",
   "execution_count": null,
   "id": "15820ca6",
   "metadata": {},
   "outputs": [],
   "source": []
  }
 ],
 "metadata": {
  "kernelspec": {
   "display_name": "Python 3 (ipykernel)",
   "language": "python",
   "name": "python3"
  },
  "language_info": {
   "codemirror_mode": {
    "name": "ipython",
    "version": 3
   },
   "file_extension": ".py",
   "mimetype": "text/x-python",
   "name": "python",
   "nbconvert_exporter": "python",
   "pygments_lexer": "ipython3",
   "version": "3.9.13"
  }
 },
 "nbformat": 4,
 "nbformat_minor": 5
}
