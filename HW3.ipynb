{
 "cells": [
  {
   "cell_type": "code",
   "execution_count": 24,
   "id": "2214f068",
   "metadata": {},
   "outputs": [
    {
     "name": "stdout",
     "output_type": "stream",
     "text": [
      "Requirement already satisfied: openai in c:\\users\\pinji\\documents\\anaconda3\\lib\\site-packages (0.27.2)\n",
      "Requirement already satisfied: requests>=2.20 in c:\\users\\pinji\\documents\\anaconda3\\lib\\site-packages (from openai) (2.28.1)\n",
      "Requirement already satisfied: aiohttp in c:\\users\\pinji\\documents\\anaconda3\\lib\\site-packages (from openai) (3.8.4)\n",
      "Requirement already satisfied: tqdm in c:\\users\\pinji\\documents\\anaconda3\\lib\\site-packages (from openai) (4.64.1)\n",
      "Requirement already satisfied: certifi>=2017.4.17 in c:\\users\\pinji\\documents\\anaconda3\\lib\\site-packages (from requests>=2.20->openai) (2022.9.14)\n",
      "Requirement already satisfied: idna<4,>=2.5 in c:\\users\\pinji\\documents\\anaconda3\\lib\\site-packages (from requests>=2.20->openai) (3.3)\n",
      "Requirement already satisfied: urllib3<1.27,>=1.21.1 in c:\\users\\pinji\\documents\\anaconda3\\lib\\site-packages (from requests>=2.20->openai) (1.26.11)\n",
      "Requirement already satisfied: charset-normalizer<3,>=2 in c:\\users\\pinji\\documents\\anaconda3\\lib\\site-packages (from requests>=2.20->openai) (2.0.4)\n",
      "Requirement already satisfied: yarl<2.0,>=1.0 in c:\\users\\pinji\\documents\\anaconda3\\lib\\site-packages (from aiohttp->openai) (1.8.2)\n",
      "Requirement already satisfied: frozenlist>=1.1.1 in c:\\users\\pinji\\documents\\anaconda3\\lib\\site-packages (from aiohttp->openai) (1.3.3)\n",
      "Requirement already satisfied: async-timeout<5.0,>=4.0.0a3 in c:\\users\\pinji\\documents\\anaconda3\\lib\\site-packages (from aiohttp->openai) (4.0.2)\n",
      "Requirement already satisfied: attrs>=17.3.0 in c:\\users\\pinji\\documents\\anaconda3\\lib\\site-packages (from aiohttp->openai) (21.4.0)\n",
      "Requirement already satisfied: aiosignal>=1.1.2 in c:\\users\\pinji\\documents\\anaconda3\\lib\\site-packages (from aiohttp->openai) (1.3.1)\n",
      "Requirement already satisfied: multidict<7.0,>=4.5 in c:\\users\\pinji\\documents\\anaconda3\\lib\\site-packages (from aiohttp->openai) (6.0.4)\n",
      "Requirement already satisfied: colorama in c:\\users\\pinji\\documents\\anaconda3\\lib\\site-packages (from tqdm->openai) (0.4.5)\n",
      "Note: you may need to restart the kernel to use updated packages.\n"
     ]
    }
   ],
   "source": [
    "pip install openai"
   ]
  },
  {
   "cell_type": "code",
   "execution_count": 25,
   "id": "93f0a5c0",
   "metadata": {},
   "outputs": [],
   "source": [
    "import openai\n",
    "import pandas as pd"
   ]
  },
  {
   "cell_type": "code",
   "execution_count": 26,
   "id": "937c2931",
   "metadata": {},
   "outputs": [],
   "source": [
    "with open('01.txt', 'r',encoding='cp1252') as fh:\n",
    "    tmp = fh.read()\n",
    "    itemlist = tmp.split(',')"
   ]
  },
  {
   "cell_type": "code",
   "execution_count": 29,
   "id": "851f4042",
   "metadata": {},
   "outputs": [],
   "source": [
    "with open('02.txt', 'r',encoding='utf-8') as fh:\n",
    "    tmp = fh.read()\n",
    "    itemlist = tmp.split(',')"
   ]
  },
  {
   "cell_type": "code",
   "execution_count": 30,
   "id": "c33e72f4",
   "metadata": {},
   "outputs": [],
   "source": [
    "with open('03.txt', 'r',encoding='utf-8') as fh:\n",
    "    tmp = fh.read()\n",
    "    itemlist = tmp.split(',')"
   ]
  },
  {
   "cell_type": "code",
   "execution_count": 31,
   "id": "06ce15f1",
   "metadata": {},
   "outputs": [],
   "source": [
    "itemlist = str(itemlist)"
   ]
  },
  {
   "cell_type": "code",
   "execution_count": 32,
   "id": "4ce7405c",
   "metadata": {},
   "outputs": [],
   "source": [
    "keyfile = open(\"key.txt\", \"r\")\n",
    "key = keyfile.readline()\n",
    "openai.api_key = key"
   ]
  },
  {
   "cell_type": "code",
   "execution_count": 33,
   "id": "d5f65fd6",
   "metadata": {},
   "outputs": [],
   "source": [
    "data = [itemlist[0:3200], itemlist[3201:6400], \n",
    "        itemlist[6401:9600], itemlist[9601:12800], itemlist[12801:16000]]"
   ]
  },
  {
   "cell_type": "code",
   "execution_count": 34,
   "id": "d8c658f4",
   "metadata": {},
   "outputs": [
    {
     "data": {
      "text/plain": [
       "'[\\'Past studies have shown the efficacy of flipped classrooms and gamification learning approaches. However\\', \\' we know little about the blend of these learning approaches. This study compares the effectiveness of gamified flipped classrooms (GFC) to traditional classroom (TC) learning approaches. We study two different undergraduate cohorts over six-week course delivery in management and IT in a university in UAE. We collected data through an online survey from 105 students (control and experimental) and performed interviews with two focus groups of students. We identified the GFC learning approach as more efficient in terms of complexity of the technique\\', \\' task orientation\\', \\' student engagement\\', \\' satisfaction\\', \\' knowledge\\', \\' and learning motivation. We also found a slight difference between the two approaches in terms of student skill development. Surprisingly\\', \\' the control group achieved better course learning outcomes through TC than the experimental group using GFC because of perceived content relevance. The study provides additional evidence on the relevance of employing mixed learning approaches in classrooms\\', \\' not to rely on one approach of university lecturers and learning enhancement units solely.\\\\n\\\\nThe transition from the traditional classroom (TC) learning approach to experimenting with modern technology-facilitated teaching methodologies has been developing since the beginning of the 21st century. Research studies (Lee\\', \\' 2011; Strayer\\', \\' 2012; Toqeer\\', \\' 2013) found that these methodologies had a significant impact on students’ academic performance\\', \\' engagement\\', \\' motivation\\', \\' and accelerated learning experience (Bernard & Ghaffari\\', \\' 2019; Castedo et al.\\', \\' 2019; Chen & Law\\', \\' 2016; Sung et al.\\', \\' 2017; Whitton & Langan\\', \\' 2019). Game-based learning (GBL) also became trendier in classrooms (Burke\\', \\' 2016).\\\\n\\\\nFrom another side\\', \" several studies explored the successful implementation of flipped learning (FL) and its positive impact on students\\' satisfaction and performance (Kim\", \\' 2018; Alsaleh\\', \\' 2020; Ping et al.\\', \\' 2020)\\', \\' however it is still questionable whether this impact differs across different subject area and when blended with gamification given the fact that gamification’ highlights the importance of context and individual motivation (Perryer et al.\\', \\' 2016). Therefore\\', \\' in this paper\\', \\' we will explore the impact of combination of (FL) (Baker\\', \\' 2000\\', \\' pp. 9–17; Lage et al.\\', \\' 2000) and gamification (Kapp\\', \\' 2012) on student learning experience in management subject area. Along with the blend of different learning approaches\\', \\' it is equally essential to establish relevance between course content and students’ background (Keller\\', \\' 1983; Frymier & Shulman\\', \\' 1995).\\\\n\\\\nSince we have blended FL and gamification approaches for this study\\', \\' we refer to it as gamified flipped classroom (GFC) learning approach. We aim to explore\\', \\' extend and report the efficacy of GFC as compared to a TC\\', \\' where the efficacy is measured by enhancing student engagement\\', \\' reducing the complexity of the technique\\', \\' enabling clear task orientation\\', \\' increasing student satisfaction\\', \\' and '"
      ]
     },
     "execution_count": 34,
     "metadata": {},
     "output_type": "execute_result"
    }
   ],
   "source": [
    "data[0]"
   ]
  },
  {
   "cell_type": "code",
   "execution_count": 35,
   "id": "c7b59f82",
   "metadata": {},
   "outputs": [],
   "source": [
    "def chatgptfn(sub_list):\n",
    "    result = ''\n",
    "    response = openai.ChatCompletion.create(\n",
    "        model=\"gpt-3.5-turbo\",\n",
    "        messages=[\n",
    "            {\"role\": \"system\", \"content\": \"You are an assistant\"},\n",
    "            {\"role\": \"user\", \"content\": f\"{sub_list} :give me a summary\"}\n",
    "        ]\n",
    "    )\n",
    "    for choice in response.choices:\n",
    "        result += choice.message.content\n",
    "    return result"
   ]
  },
  {
   "cell_type": "code",
   "execution_count": 37,
   "id": "f631f653",
   "metadata": {},
   "outputs": [],
   "source": [
    "for i in range(0,5):\n",
    "    data[i]=chatgptfn(data[i])"
   ]
  },
  {
   "cell_type": "code",
   "execution_count": 39,
   "id": "e02e73f6",
   "metadata": {},
   "outputs": [],
   "source": [
    "data1=''\n",
    "for i in range(0,5):\n",
    "    data1=data1+data[i]"
   ]
  },
  {
   "cell_type": "code",
   "execution_count": 40,
   "id": "1b4bb23a",
   "metadata": {},
   "outputs": [],
   "source": [
    "data2=''\n",
    "for i in range(0,5):\n",
    "    data2=data2+data[i]"
   ]
  },
  {
   "cell_type": "code",
   "execution_count": 41,
   "id": "e2b40c58",
   "metadata": {},
   "outputs": [],
   "source": [
    "data3=''\n",
    "for i in range(0,5):\n",
    "    data3=data3+data[i]"
   ]
  },
  {
   "cell_type": "code",
   "execution_count": 42,
   "id": "f78df019",
   "metadata": {},
   "outputs": [
    {
     "data": {
      "text/plain": [
       "\"The study compares the effectiveness of gamified flipped classrooms (GFC) to traditional classroom (TC) learning approaches and aims to explore and report the efficacy of GFC. The results show that the GFC learning approach is more efficient in terms of complexity, task orientation, student engagement, satisfaction, knowledge, and learning motivation. However, the control group achieved better course learning outcomes through TC than the experimental group using GFC because of perceived content relevance. The study provides additional evidence on the relevance of employing mixed learning approaches in classrooms.The paper describes a study that compares the effectiveness of flipped learning (FL) using gamification elements (GFC) versus traditional classroom (TC) approach in a mandatory IT and management foundation course. The study examines various aspects such as student engagement, task orientation clarity, course effectiveness, learning outcomes, and overall satisfaction. The survey data was collected using a secured platform, and statistical tests were applied to the data using SPSS. The author, Usman K. Durrani is an Assistant Professor in the College of Engineering and Information Technology at Ajman University UAE, and his research interests include gamification, blended learning, flipped classroom approaches, and lean software engineering processes.I'm sorry, I don't have enough information to provide a summary. Can you please provide me with more details or context?I apologize, but I need more information about what you would like me to summarize. Can you please provide me with more details?Of what topic or situation would you like a summary? Please provide more context or information.\""
      ]
     },
     "execution_count": 42,
     "metadata": {},
     "output_type": "execute_result"
    }
   ],
   "source": [
    "data1"
   ]
  },
  {
   "cell_type": "code",
   "execution_count": 43,
   "id": "b6be1ba4",
   "metadata": {},
   "outputs": [],
   "source": [
    "import gensim\n",
    "from gensim import corpora\n",
    "from pprint import pprint"
   ]
  },
  {
   "cell_type": "code",
   "execution_count": 44,
   "id": "cbe84ed2",
   "metadata": {},
   "outputs": [],
   "source": [
    "# 創建詞袋\n",
    "texts = [[word for word in document.lower().split()] for document in data]\n",
    "dictionary = corpora.Dictionary(texts)\n",
    "corpus = [dictionary.doc2bow(text) for text in texts]"
   ]
  },
  {
   "cell_type": "code",
   "execution_count": 45,
   "id": "5cca45f8",
   "metadata": {},
   "outputs": [],
   "source": [
    "# 訓練 LDA 模型\n",
    "lda_model = gensim.models.ldamodel.LdaModel(corpus=corpus, id2word=dictionary, \n",
    "                                            num_topics=3, random_state=100, update_every=1, \n",
    "                                            chunksize=100, passes=10, alpha='auto', per_word_topics=True)"
   ]
  },
  {
   "cell_type": "code",
   "execution_count": 46,
   "id": "2a98e54f",
   "metadata": {},
   "outputs": [
    {
     "name": "stdout",
     "output_type": "stream",
     "text": [
      "Note: you may need to restart the kernel to use updated packages.\n"
     ]
    },
    {
     "name": "stderr",
     "output_type": "stream",
     "text": [
      "ERROR: Could not find a version that satisfies the requirement pyLDAvis.gensim (from versions: none)\n",
      "ERROR: No matching distribution found for pyLDAvis.gensim\n"
     ]
    }
   ],
   "source": [
    "pip install pyLDAvis.gensim"
   ]
  },
  {
   "cell_type": "code",
   "execution_count": 47,
   "id": "4cb10d12",
   "metadata": {},
   "outputs": [
    {
     "name": "stderr",
     "output_type": "stream",
     "text": [
      "C:\\Users\\pinji\\Documents\\anaconda3\\lib\\site-packages\\pyLDAvis\\_prepare.py:243: FutureWarning: In a future version of pandas all arguments of DataFrame.drop except for the argument 'labels' will be keyword-only.\n",
      "  default_term_info = default_term_info.sort_values(\n"
     ]
    },
    {
     "data": {
      "text/html": [
       "\n",
       "<link rel=\"stylesheet\" type=\"text/css\" href=\"https://cdn.jsdelivr.net/gh/bmabey/pyLDAvis@3.4.0/pyLDAvis/js/ldavis.v1.0.0.css\">\n",
       "\n",
       "\n",
       "<div id=\"ldavis_el1333626046450440009253005311\" style=\"background-color:white;\"></div>\n",
       "<script type=\"text/javascript\">\n",
       "\n",
       "var ldavis_el1333626046450440009253005311_data = {\"mdsDat\": {\"x\": [-0.06262980224519528, -0.06931624086084164, 0.13194604310603691], \"y\": [-0.06548072190720954, 0.06330528784718055, 0.0021754340600289536], \"topics\": [1, 2, 3], \"cluster\": [1, 1, 1], \"Freq\": [41.67908193521211, 34.53785411651185, 23.78306394827604]}, \"tinfo\": {\"Term\": [\"you\", \"provide\", \"the\", \"more\", \"please\", \"i\", \"or\", \"me\", \"learning\", \"what\", \"like\", \"would\", \"with\", \"can\", \"a\", \"information\", \"and\", \"gfc\", \"group\", \"approaches\", \"of\", \"apologize,\", \"about\", \"need\", \"details?\", \"context\", \"but\", \"summary?\", \"summarize.\", \"topic\", \"data\", \"engineering\", \"was\", \"management\", \"learning,\", \"assistant\", \"blended\", \"platform,\", \"ajman\", \"uae,\", \"(fl)\", \"it\", \"effectiveness,\", \"collected\", \"mandatory\", \"college\", \"k.\", \"as\", \"durrani\", \"satisfaction.\", \"outcomes,\", \"gamification\", \"usman\", \"software\", \"overall\", \"university\", \"research\", \"processes.\", \"applied\", \"approaches,\", \"using\", \"and\", \"a\", \"flipped\", \"classroom\", \"the\", \"study\", \"in\", \"learning\", \"of\", \"to\", \"information\", \"task\", \"is\", \"(gfc)\", \"approach\", \"that\", \"student\", \"traditional\", \"effectiveness\", \"engagement,\", \"compares\", \"(tc)\", \"course\", \"gfc\", \"group\", \"approaches\", \"better\", \"control\", \"than\", \"achieved\", \"content\", \"satisfaction,\", \"evidence\", \"explore\", \"show\", \"gamified\", \"because\", \"tc\", \"additional\", \"orientation,\", \"gfc.\", \"employing\", \"efficacy\", \"outcomes\", \"classrooms\", \"provides\", \"report\", \"experimental\", \"results\", \"aims\", \"however,\", \"perceived\", \"motivation.\", \"learning\", \"of\", \"the\", \"study\", \"in\", \"and\", \"to\", \"using\", \"flipped\", \"more\", \"classroom\", \"course\", \"(gfc)\", \"engagement,\", \"(tc)\", \"effectiveness\", \"approach\", \"that\", \"traditional\", \"is\", \"student\", \"compares\", \"you\", \"provide\", \"please\", \"i\", \"or\", \"me\", \"what\", \"like\", \"would\", \"with\", \"can\", \"more\", \"apologize,\", \"about\", \"need\", \"details?\", \"context\", \"but\", \"summary?\", \"summarize.\", \"topic\", \"information.\", \"situation\", \"details\", \"have\", \"don't\", \"sorry,\", \"context?\", \"i'm\", \"summary.\", \"information\", \"to\", \"a\", \"of\"], \"Freq\": [2.0, 2.0, 11.0, 3.0, 2.0, 2.0, 2.0, 2.0, 5.0, 1.0, 1.0, 1.0, 1.0, 1.0, 3.0, 2.0, 6.0, 1.0, 1.0, 1.0, 5.0, 1.0, 1.0, 1.0, 1.0, 1.0, 1.0, 1.0, 1.0, 1.0, 1.5661910031386697, 1.5649019574480947, 0.8959215781599706, 0.8958797120531587, 0.895800577285844, 0.8957128345339509, 0.8957331806793174, 0.8956316455884981, 0.8955344144899678, 0.8955265890494423, 0.8955388163002636, 0.8955365664861124, 0.8955227741471861, 0.8954960698313925, 0.8954834513085451, 0.8954642789792574, 0.8954286732248661, 0.8954611488030472, 0.8954168372460711, 0.8954064685373747, 0.8954020667270791, 0.8954028492711317, 0.8953692976948783, 0.8953522773617352, 0.8953585377141556, 0.8953441584671898, 0.895302977086424, 0.8952764684066437, 0.8951910732869084, 0.8951538046264054, 2.238551777097828, 4.252796300786711, 2.239146706213785, 1.5686000650044674, 1.5677378970945623, 4.940089482538761, 1.5695403895016216, 1.5689209080660158, 1.5700979521390686, 1.575140176923715, 0.9022358283020488, 0.8983069680681783, 0.8974101725839477, 0.8972452514248712, 0.8971333476253556, 0.8971185771063636, 0.897070059375105, 0.8970637990226845, 0.8969327228938812, 0.896881857530465, 0.8967037309405016, 0.896563166465061, 0.896344054130345, 0.8960809236926726, 1.4676852247734962, 1.46733051485868, 1.4669678612574717, 0.839569592770994, 0.83955297587599, 0.8395404929402309, 0.8393991277456607, 0.8393825108506567, 0.8393073700620292, 0.8391948615241488, 0.8392036968488094, 0.8391379587910133, 0.8391325279033778, 0.8390868922356353, 0.8390681678319967, 0.8389995927433462, 0.8389837864285863, 0.8389503094645052, 0.838955010829921, 0.838899810315298, 0.8388768708943902, 0.8388991618511028, 0.8388992429091272, 0.8388701430783642, 0.8388748444437799, 0.8388679545117051, 0.8388386115068689, 0.8388108086044964, 0.8388364229402099, 0.8388308299365256, 3.3600454360161036, 3.3556676542337938, 5.870163117495993, 1.469747665146572, 1.4697024347689516, 2.10513606627317, 1.4711493205046615, 0.8427425280784804, 0.841246683296027, 0.8410763803867426, 0.8408542813998605, 0.8408176431728275, 0.8405613376996445, 0.8405320757528326, 0.8404805228493082, 0.8404095160199254, 0.8401494818776197, 0.8401474554270095, 0.8400689912593811, 0.8397073914124902, 0.8394713504454097, 0.8393319306434253, 2.3300481799887107, 2.324821675587158, 1.7915686363878822, 1.7914567786107376, 1.7914277536386243, 1.790923165661884, 1.2567282661175294, 1.2557730096314752, 1.255255360417284, 1.2533285488069887, 1.2531905685549423, 2.3294790672662726, 0.7182446478571541, 0.7180545342898116, 0.7180543110207953, 0.7180293607082286, 0.7180155180292207, 0.7178412565620323, 0.7177661265380619, 0.7177282266225524, 0.7176750327794292, 0.7176562223648096, 0.71763919810232, 0.7149189442255026, 0.7145426801158561, 0.7144557168340241, 0.7143978343415596, 0.7142810646460572, 0.7142464021312834, 0.7141300231565596, 1.255261388680723, 1.2556708640565377, 1.2591335432296626, 0.7237932736319113], \"Total\": [2.0, 2.0, 11.0, 3.0, 2.0, 2.0, 2.0, 2.0, 5.0, 1.0, 1.0, 1.0, 1.0, 1.0, 3.0, 2.0, 6.0, 1.0, 1.0, 1.0, 5.0, 1.0, 1.0, 1.0, 1.0, 1.0, 1.0, 1.0, 1.0, 1.0, 1.9614294493267042, 1.9611238158007833, 1.2881118793734054, 1.2881316693437674, 1.2880883166938544, 1.2880340668751729, 1.2880959167135466, 1.288055220996778, 1.2880098598849794, 1.2880409113937563, 1.2880681253237452, 1.2880758010982118, 1.2880572479858126, 1.2880560898715188, 1.2880419488056498, 1.2880211218838433, 1.2880000351207674, 1.2880485994372335, 1.288042036686057, 1.2880362113254313, 1.2880335230924866, 1.2880708595549506, 1.2880358208007334, 1.2880311996063163, 1.288067805046758, 1.288053033148872, 1.2880266466037003, 1.288006638784437, 1.2879670984868257, 1.287985428933201, 3.265698297692026, 6.547477393806866, 3.7140950913961595, 2.592380206952327, 2.592150748925771, 11.005624696928395, 3.2229764978754356, 3.222846054863798, 5.115008612595536, 5.65460110478942, 3.629056012863248, 2.3674208649886834, 1.918743087339644, 1.918774947809476, 1.9188766966214312, 1.9188139429596587, 1.9188039081499269, 1.9187043307655907, 1.9187650063335173, 1.9188043951177356, 1.9187864909528591, 1.9185840068128877, 1.9187070669059625, 1.918703359174152, 1.8760983502458153, 1.8761041034041275, 1.8761271289586756, 1.245311469320469, 1.245342273148041, 1.2453349733032544, 1.2452966260770628, 1.2453359635752659, 1.245344701812125, 1.2453328739802607, 1.2453654113217634, 1.2453042101695095, 1.2453160739769638, 1.2453228658049063, 1.245364373091965, 1.2453168800499106, 1.245321994435028, 1.2453646514959624, 1.2453804175315049, 1.245339336195031, 1.2453351629918255, 1.2453720391979006, 1.2453733819234174, 1.2453457356942972, 1.2453533359792286, 1.2453580299596485, 1.2453657115421084, 1.2453316517021276, 1.2453885278635553, 1.245405436079381, 5.115008612595536, 5.65460110478942, 11.005624696928395, 3.2229764978754356, 3.222846054863798, 6.547477393806866, 3.629056012863248, 3.265698297692026, 2.592380206952327, 3.4040217678346023, 2.592150748925771, 1.918703359174152, 1.9188766966214312, 1.9187864909528591, 1.9187070669059625, 1.9188043951177356, 1.9188139429596587, 1.9188039081499269, 1.9187650063335173, 1.918774947809476, 1.9187043307655907, 1.9185840068128877, 2.7730045859791965, 2.774186588105529, 2.2335675207937236, 2.233611394673517, 2.233611497830954, 2.233730388176821, 1.69342607275129, 1.6936621183519915, 1.6937933325779473, 1.69411261819079, 1.694186488771428, 3.4040217678346023, 1.1540129820591751, 1.1540612328248736, 1.1540610895516026, 1.1540669916093358, 1.1540698158647587, 1.1541137528412408, 1.1541312764524, 1.1541413469631305, 1.154154297371841, 1.154158893651315, 1.154163397344432, 1.1546858137064464, 1.1547642019831708, 1.1547851310636594, 1.1547965614488023, 1.1548117830379436, 1.1548334652582333, 1.1548969648997152, 2.3674208649886834, 3.629056012863248, 3.7140950913961595, 5.65460110478942], \"Category\": [\"Default\", \"Default\", \"Default\", \"Default\", \"Default\", \"Default\", \"Default\", \"Default\", \"Default\", \"Default\", \"Default\", \"Default\", \"Default\", \"Default\", \"Default\", \"Default\", \"Default\", \"Default\", \"Default\", \"Default\", \"Default\", \"Default\", \"Default\", \"Default\", \"Default\", \"Default\", \"Default\", \"Default\", \"Default\", \"Default\", \"Topic1\", \"Topic1\", \"Topic1\", \"Topic1\", \"Topic1\", \"Topic1\", \"Topic1\", \"Topic1\", \"Topic1\", \"Topic1\", \"Topic1\", \"Topic1\", \"Topic1\", \"Topic1\", \"Topic1\", \"Topic1\", \"Topic1\", \"Topic1\", \"Topic1\", \"Topic1\", \"Topic1\", \"Topic1\", \"Topic1\", \"Topic1\", \"Topic1\", \"Topic1\", \"Topic1\", \"Topic1\", \"Topic1\", \"Topic1\", \"Topic1\", \"Topic1\", \"Topic1\", \"Topic1\", \"Topic1\", \"Topic1\", \"Topic1\", \"Topic1\", \"Topic1\", \"Topic1\", \"Topic1\", \"Topic1\", \"Topic1\", \"Topic1\", \"Topic1\", \"Topic1\", \"Topic1\", \"Topic1\", \"Topic1\", \"Topic1\", \"Topic1\", \"Topic1\", \"Topic1\", \"Topic1\", \"Topic2\", \"Topic2\", \"Topic2\", \"Topic2\", \"Topic2\", \"Topic2\", \"Topic2\", \"Topic2\", \"Topic2\", \"Topic2\", \"Topic2\", \"Topic2\", \"Topic2\", \"Topic2\", \"Topic2\", \"Topic2\", \"Topic2\", \"Topic2\", \"Topic2\", \"Topic2\", \"Topic2\", \"Topic2\", \"Topic2\", \"Topic2\", \"Topic2\", \"Topic2\", \"Topic2\", \"Topic2\", \"Topic2\", \"Topic2\", \"Topic2\", \"Topic2\", \"Topic2\", \"Topic2\", \"Topic2\", \"Topic2\", \"Topic2\", \"Topic2\", \"Topic2\", \"Topic2\", \"Topic2\", \"Topic2\", \"Topic2\", \"Topic2\", \"Topic2\", \"Topic2\", \"Topic2\", \"Topic2\", \"Topic2\", \"Topic2\", \"Topic2\", \"Topic2\", \"Topic3\", \"Topic3\", \"Topic3\", \"Topic3\", \"Topic3\", \"Topic3\", \"Topic3\", \"Topic3\", \"Topic3\", \"Topic3\", \"Topic3\", \"Topic3\", \"Topic3\", \"Topic3\", \"Topic3\", \"Topic3\", \"Topic3\", \"Topic3\", \"Topic3\", \"Topic3\", \"Topic3\", \"Topic3\", \"Topic3\", \"Topic3\", \"Topic3\", \"Topic3\", \"Topic3\", \"Topic3\", \"Topic3\", \"Topic3\", \"Topic3\", \"Topic3\", \"Topic3\", \"Topic3\"], \"logprob\": [30.0, 29.0, 28.0, 27.0, 26.0, 25.0, 24.0, 23.0, 22.0, 21.0, 20.0, 19.0, 18.0, 17.0, 16.0, 15.0, 14.0, 13.0, 12.0, 11.0, 10.0, 9.0, 8.0, 7.0, 6.0, 5.0, 4.0, 3.0, 2.0, 1.0, -4.2056, -4.2064, -4.7642, -4.7642, -4.7643, -4.7644, -4.7644, -4.7645, -4.7646, -4.7646, -4.7646, -4.7646, -4.7646, -4.7646, -4.7646, -4.7647, -4.7647, -4.7647, -4.7647, -4.7647, -4.7647, -4.7647, -4.7648, -4.7648, -4.7648, -4.7648, -4.7649, -4.7649, -4.765, -4.765, -3.8484, -3.2067, -3.8482, -4.2041, -4.2046, -3.0569, -4.2035, -4.2039, -4.2031, -4.1999, -4.7571, -4.7615, -4.7625, -4.7627, -4.7628, -4.7628, -4.7629, -4.7629, -4.763, -4.7631, -4.7633, -4.7634, -4.7637, -4.764, -4.0826, -4.0829, -4.0831, -4.6412, -4.6412, -4.6412, -4.6414, -4.6414, -4.6415, -4.6416, -4.6416, -4.6417, -4.6417, -4.6418, -4.6418, -4.6419, -4.6419, -4.6419, -4.6419, -4.642, -4.642, -4.642, -4.642, -4.642, -4.642, -4.642, -4.6421, -4.6421, -4.6421, -4.6421, -3.2544, -3.2557, -2.6964, -4.0812, -4.0813, -3.7219, -4.0803, -4.6374, -4.6392, -4.6394, -4.6397, -4.6397, -4.64, -4.64, -4.6401, -4.6402, -4.6405, -4.6405, -4.6406, -4.641, -4.6413, -4.6415, -3.2473, -3.2496, -3.5101, -3.5102, -3.5102, -3.5105, -3.8647, -3.8655, -3.8659, -3.8674, -3.8675, -3.2476, -4.4242, -4.4244, -4.4244, -4.4245, -4.4245, -4.4247, -4.4248, -4.4249, -4.425, -4.425, -4.425, -4.4288, -4.4293, -4.4295, -4.4295, -4.4297, -4.4298, -4.4299, -3.8659, -3.8656, -3.8628, -4.4165], \"loglift\": [30.0, 29.0, 28.0, 27.0, 26.0, 25.0, 24.0, 23.0, 22.0, 21.0, 20.0, 19.0, 18.0, 17.0, 16.0, 15.0, 14.0, 13.0, 12.0, 11.0, 10.0, 9.0, 8.0, 7.0, 6.0, 5.0, 4.0, 3.0, 2.0, 1.0, 0.6501, 0.6495, 0.5121, 0.512, 0.512, 0.5119, 0.5119, 0.5118, 0.5117, 0.5117, 0.5117, 0.5117, 0.5117, 0.5117, 0.5117, 0.5117, 0.5116, 0.5116, 0.5116, 0.5116, 0.5116, 0.5115, 0.5115, 0.5115, 0.5115, 0.5115, 0.5115, 0.5115, 0.5114, 0.5113, 0.4975, 0.4437, 0.3691, 0.3728, 0.3723, 0.0741, 0.1556, 0.1553, -0.3059, -0.403, -0.5167, -0.0939, 0.1153, 0.1151, 0.1149, 0.1149, 0.1148, 0.1149, 0.1147, 0.1146, 0.1144, 0.1144, 0.1141, 0.1138, 0.8176, 0.8174, 0.8171, 0.6689, 0.6688, 0.6688, 0.6687, 0.6686, 0.6685, 0.6684, 0.6684, 0.6684, 0.6683, 0.6683, 0.6682, 0.6682, 0.6682, 0.6681, 0.6681, 0.668, 0.668, 0.668, 0.668, 0.668, 0.668, 0.668, 0.6679, 0.6679, 0.6679, 0.6679, 0.6429, 0.5413, 0.4346, 0.2779, 0.2779, -0.0716, 0.1602, -0.2915, -0.0623, -0.3349, -0.0627, 0.2381, 0.2377, 0.2377, 0.2377, 0.2375, 0.2372, 0.2372, 0.2372, 0.2367, 0.2365, 0.2364, 1.2622, 1.2595, 1.2157, 1.2156, 1.2156, 1.2153, 1.138, 1.1371, 1.1366, 1.1348, 1.1347, 1.0569, 0.962, 0.9617, 0.9617, 0.9617, 0.9616, 0.9614, 0.9612, 0.9612, 0.9611, 0.9611, 0.961, 0.9568, 0.9562, 0.956, 0.956, 0.9558, 0.9557, 0.9555, 0.8017, 0.3749, 0.3545, -0.6195]}, \"token.table\": {\"Topic\": [1, 1, 2, 1, 2, 1, 3, 3, 2, 2, 2, 1, 1, 2, 3, 1, 1, 2, 2, 1, 1, 1, 2, 2, 1, 3, 3, 1, 2, 2, 1, 1, 1, 2, 2, 3, 3, 2, 1, 2, 1, 3, 3, 3, 1, 1, 2, 1, 2, 2, 1, 2, 1, 2, 2, 2, 1, 2, 1, 2, 2, 2, 2, 3, 2, 3, 3, 1, 2, 1, 3, 3, 1, 2, 1, 1, 1, 2, 1, 3, 1, 1, 3, 2, 3, 2, 3, 1, 2, 3, 3, 2, 2, 1, 1, 2, 1, 3, 1, 3, 2, 2, 1, 2, 2, 1, 2, 3, 1, 3, 1, 2, 1, 2, 3, 3, 3, 1, 2, 2, 2, 1, 2, 1, 2, 1, 2, 3, 3, 1, 2, 1, 1, 1, 2, 1, 1, 3, 3, 3, 3], \"Freq\": [0.7763564522246511, 0.521138227255926, 0.521138227255926, 0.5211843002238814, 0.5211843002238814, 0.5384891745591207, 0.26924458727956035, 0.866505148563246, 0.803021528413036, 0.8030084679811947, 0.8029769815660995, 0.7763915721027951, 0.6109223078469158, 0.3054611539234579, 0.8665413782569755, 0.7764173488397761, 0.5211552707697956, 0.5211552707697956, 0.5330129203744521, 0.7764062989658738, 0.7763682212277658, 0.7763769807937175, 0.8030046082496498, 0.8030119569569785, 0.7763397018999985, 0.8664657166922777, 0.5902537923821889, 0.7715600648723198, 0.3857800324361599, 0.8029729016913404, 0.7763637064126208, 0.7763847836108563, 0.5212177295594054, 0.5212177295594054, 0.802996162681334, 0.866498704197274, 0.8659419783276865, 0.8029920942715194, 0.5211853073684198, 0.5211853073684198, 1.0196645108426081, 0.8660364474298704, 0.8665008247099323, 0.8659619639187001, 0.7763721769305396, 0.5211578640034547, 0.5211578640034547, 0.7763630083707387, 0.8029939880124298, 0.8029674996673879, 0.5211627269188274, 0.5211627269188274, 1.0198234215942874, 0.8029981548659019, 0.8029849610622307, 0.8029771751398284, 0.7714917721699682, 0.3857458860849841, 0.7763548042267769, 0.8030089877555843, 0.5330210966120061, 0.8029776650547898, 0.5330194620786415, 0.8659776587138902, 0.8029989429989942, 0.8954109048554242, 0.8659257201005941, 0.620569510908433, 0.3102847554542165, 0.4224006026088564, 0.4224006026088564, 0.8664318279750759, 0.5211658621776495, 0.5211658621776495, 0.776351825837735, 0.7763974943573946, 0.39100618424670247, 0.5865092763700537, 0.7763442824842223, 0.5904365393571207, 0.77631815426869, 0.7763722299007888, 0.8953632052400055, 0.2937701543066598, 0.5875403086133196, 0.8029513691124285, 0.8665052561372975, 0.35369426824926864, 0.5305414023739029, 0.17684713412463432, 0.8954108635016373, 0.8030051701236317, 0.8029966789001397, 0.7763773085649693, 0.7763566452650364, 0.8029622705096574, 0.7763642301190606, 0.8954284933769441, 0.7763935137351118, 0.7209320413324415, 0.8029720359492104, 0.8029898616407004, 0.7763814534713425, 0.8029819344661884, 0.8029905282809496, 0.7763756882044235, 0.803016637889533, 0.8664284470473241, 0.7763787090760284, 0.8659533924706225, 0.5211850434511636, 0.5211850434511636, 0.6205443946980025, 0.31027219734900124, 0.8664450005463199, 0.8658781089504677, 0.8664525608159819, 0.5211745160664056, 0.5211745160664056, 0.802977844562247, 0.8029968012120444, 0.5211579962666328, 0.5211579962666328, 0.4543131478393471, 0.5451757774072166, 0.27555375184496567, 0.27555375184496567, 0.27555375184496567, 0.8664352784347202, 0.5211685624342585, 0.5211685624342585, 0.7763728552052942, 0.7763655488278494, 0.6124264453374227, 0.30621322266871137, 0.7763759235968529, 0.7763300812709252, 0.5905188399369046, 0.5902795299806808, 0.5903907996130813, 0.7212393409345066], \"Term\": [\"(fl)\", \"(gfc)\", \"(gfc)\", \"(tc)\", \"(tc)\", \"a\", \"a\", \"about\", \"achieved\", \"additional\", \"aims\", \"ajman\", \"and\", \"and\", \"apologize,\", \"applied\", \"approach\", \"approach\", \"approaches\", \"approaches,\", \"as\", \"assistant\", \"because\", \"better\", \"blended\", \"but\", \"can\", \"classroom\", \"classroom\", \"classrooms\", \"collected\", \"college\", \"compares\", \"compares\", \"content\", \"context\", \"context?\", \"control\", \"course\", \"course\", \"data\", \"details\", \"details?\", \"don't\", \"durrani\", \"effectiveness\", \"effectiveness\", \"effectiveness,\", \"efficacy\", \"employing\", \"engagement,\", \"engagement,\", \"engineering\", \"evidence\", \"experimental\", \"explore\", \"flipped\", \"flipped\", \"gamification\", \"gamified\", \"gfc\", \"gfc.\", \"group\", \"have\", \"however,\", \"i\", \"i'm\", \"in\", \"in\", \"information\", \"information\", \"information.\", \"is\", \"is\", \"it\", \"k.\", \"learning\", \"learning\", \"learning,\", \"like\", \"management\", \"mandatory\", \"me\", \"more\", \"more\", \"motivation.\", \"need\", \"of\", \"of\", \"of\", \"or\", \"orientation,\", \"outcomes\", \"outcomes,\", \"overall\", \"perceived\", \"platform,\", \"please\", \"processes.\", \"provide\", \"provides\", \"report\", \"research\", \"results\", \"satisfaction,\", \"satisfaction.\", \"show\", \"situation\", \"software\", \"sorry,\", \"student\", \"student\", \"study\", \"study\", \"summarize.\", \"summary.\", \"summary?\", \"task\", \"task\", \"tc\", \"than\", \"that\", \"that\", \"the\", \"the\", \"to\", \"to\", \"to\", \"topic\", \"traditional\", \"traditional\", \"uae,\", \"university\", \"using\", \"using\", \"usman\", \"was\", \"what\", \"with\", \"would\", \"you\"]}, \"R\": 30, \"lambda.step\": 0.01, \"plot.opts\": {\"xlab\": \"PC1\", \"ylab\": \"PC2\"}, \"topic.order\": [3, 2, 1]};\n",
       "\n",
       "function LDAvis_load_lib(url, callback){\n",
       "  var s = document.createElement('script');\n",
       "  s.src = url;\n",
       "  s.async = true;\n",
       "  s.onreadystatechange = s.onload = callback;\n",
       "  s.onerror = function(){console.warn(\"failed to load library \" + url);};\n",
       "  document.getElementsByTagName(\"head\")[0].appendChild(s);\n",
       "}\n",
       "\n",
       "if(typeof(LDAvis) !== \"undefined\"){\n",
       "   // already loaded: just create the visualization\n",
       "   !function(LDAvis){\n",
       "       new LDAvis(\"#\" + \"ldavis_el1333626046450440009253005311\", ldavis_el1333626046450440009253005311_data);\n",
       "   }(LDAvis);\n",
       "}else if(typeof define === \"function\" && define.amd){\n",
       "   // require.js is available: use it to load d3/LDAvis\n",
       "   require.config({paths: {d3: \"https://d3js.org/d3.v5\"}});\n",
       "   require([\"d3\"], function(d3){\n",
       "      window.d3 = d3;\n",
       "      LDAvis_load_lib(\"https://cdn.jsdelivr.net/gh/bmabey/pyLDAvis@3.4.0/pyLDAvis/js/ldavis.v3.0.0.js\", function(){\n",
       "        new LDAvis(\"#\" + \"ldavis_el1333626046450440009253005311\", ldavis_el1333626046450440009253005311_data);\n",
       "      });\n",
       "    });\n",
       "}else{\n",
       "    // require.js not available: dynamically load d3 & LDAvis\n",
       "    LDAvis_load_lib(\"https://d3js.org/d3.v5.js\", function(){\n",
       "         LDAvis_load_lib(\"https://cdn.jsdelivr.net/gh/bmabey/pyLDAvis@3.4.0/pyLDAvis/js/ldavis.v3.0.0.js\", function(){\n",
       "                 new LDAvis(\"#\" + \"ldavis_el1333626046450440009253005311\", ldavis_el1333626046450440009253005311_data);\n",
       "            })\n",
       "         });\n",
       "}\n",
       "</script>"
      ],
      "text/plain": [
       "<IPython.core.display.HTML object>"
      ]
     },
     "execution_count": 47,
     "metadata": {},
     "output_type": "execute_result"
    }
   ],
   "source": [
    "# 輸出主題模型分析結果\n",
    "import pyLDAvis.gensim\n",
    "pyLDAvis.enable_notebook()\n",
    "vis = pyLDAvis.gensim.prepare(lda_model, corpus, dictionary)\n",
    "pyLDAvis.display(vis)"
   ]
  },
  {
   "cell_type": "code",
   "execution_count": null,
   "id": "15820ca6",
   "metadata": {},
   "outputs": [],
   "source": []
  }
 ],
 "metadata": {
  "kernelspec": {
   "display_name": "Python 3 (ipykernel)",
   "language": "python",
   "name": "python3"
  },
  "language_info": {
   "codemirror_mode": {
    "name": "ipython",
    "version": 3
   },
   "file_extension": ".py",
   "mimetype": "text/x-python",
   "name": "python",
   "nbconvert_exporter": "python",
   "pygments_lexer": "ipython3",
   "version": "3.9.13"
  }
 },
 "nbformat": 4,
 "nbformat_minor": 5
}
